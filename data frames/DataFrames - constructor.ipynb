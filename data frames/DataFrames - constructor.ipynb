{
 "cells": [
  {
   "cell_type": "markdown",
   "id": "c4edaa73",
   "metadata": {},
   "source": [
    "# Data Frames - Constructor\n",
    "Data frame стоит представлять как таблицу"
   ]
  },
  {
   "cell_type": "code",
   "execution_count": 1,
   "id": "b0fa27e6",
   "metadata": {},
   "outputs": [],
   "source": [
    "import pandas as pd"
   ]
  },
  {
   "cell_type": "markdown",
   "id": "71f2df64",
   "metadata": {},
   "source": [
    "#### Создание DataFreme"
   ]
  },
  {
   "cell_type": "code",
   "execution_count": 2,
   "id": "3088c61e",
   "metadata": {},
   "outputs": [
    {
     "data": {
      "text/html": [
       "<div>\n",
       "<style scoped>\n",
       "    .dataframe tbody tr th:only-of-type {\n",
       "        vertical-align: middle;\n",
       "    }\n",
       "\n",
       "    .dataframe tbody tr th {\n",
       "        vertical-align: top;\n",
       "    }\n",
       "\n",
       "    .dataframe thead th {\n",
       "        text-align: right;\n",
       "    }\n",
       "</style>\n",
       "<table border=\"1\" class=\"dataframe\">\n",
       "  <thead>\n",
       "    <tr style=\"text-align: right;\">\n",
       "      <th></th>\n",
       "      <th>kind</th>\n",
       "      <th>product</th>\n",
       "      <th>productivity</th>\n",
       "    </tr>\n",
       "  </thead>\n",
       "  <tbody>\n",
       "    <tr>\n",
       "      <th>0</th>\n",
       "      <td>bird</td>\n",
       "      <td>egg</td>\n",
       "      <td>150.5</td>\n",
       "    </tr>\n",
       "    <tr>\n",
       "      <th>1</th>\n",
       "      <td>cattle</td>\n",
       "      <td>meat</td>\n",
       "      <td>44.7</td>\n",
       "    </tr>\n",
       "    <tr>\n",
       "      <th>2</th>\n",
       "      <td>fish</td>\n",
       "      <td>fat</td>\n",
       "      <td>51.3</td>\n",
       "    </tr>\n",
       "  </tbody>\n",
       "</table>\n",
       "</div>"
      ],
      "text/plain": [
       "     kind product  productivity\n",
       "0    bird     egg         150.5\n",
       "1  cattle    meat          44.7\n",
       "2    fish     fat          51.3"
      ]
     },
     "execution_count": 2,
     "metadata": {},
     "output_type": "execute_result"
    }
   ],
   "source": [
    "animals_df = pd.DataFrame({\n",
    "    \"kind\": [\"bird\", \"cattle\", \"fish\"],\n",
    "    \"product\": [\"egg\", \"meat\", \"fat\"],\n",
    "    \"productivity\": [150.5, 44.7, 51.3]\n",
    "})\n",
    "animals_df"
   ]
  },
  {
   "cell_type": "markdown",
   "id": "bfd0cf2a",
   "metadata": {},
   "source": [
    "#### Явное индексирование"
   ]
  },
  {
   "cell_type": "code",
   "execution_count": 3,
   "id": "46bff39a",
   "metadata": {},
   "outputs": [
    {
     "data": {
      "text/html": [
       "<div>\n",
       "<style scoped>\n",
       "    .dataframe tbody tr th:only-of-type {\n",
       "        vertical-align: middle;\n",
       "    }\n",
       "\n",
       "    .dataframe tbody tr th {\n",
       "        vertical-align: top;\n",
       "    }\n",
       "\n",
       "    .dataframe thead th {\n",
       "        text-align: right;\n",
       "    }\n",
       "</style>\n",
       "<table border=\"1\" class=\"dataframe\">\n",
       "  <thead>\n",
       "    <tr style=\"text-align: right;\">\n",
       "      <th></th>\n",
       "      <th>kind</th>\n",
       "      <th>product</th>\n",
       "      <th>productivity</th>\n",
       "    </tr>\n",
       "  </thead>\n",
       "  <tbody>\n",
       "    <tr>\n",
       "      <th>b</th>\n",
       "      <td>bird</td>\n",
       "      <td>egg</td>\n",
       "      <td>150.5</td>\n",
       "    </tr>\n",
       "    <tr>\n",
       "      <th>c</th>\n",
       "      <td>cattle</td>\n",
       "      <td>meat</td>\n",
       "      <td>44.7</td>\n",
       "    </tr>\n",
       "    <tr>\n",
       "      <th>f</th>\n",
       "      <td>fish</td>\n",
       "      <td>fat</td>\n",
       "      <td>51.3</td>\n",
       "    </tr>\n",
       "  </tbody>\n",
       "</table>\n",
       "</div>"
      ],
      "text/plain": [
       "     kind product  productivity\n",
       "b    bird     egg         150.5\n",
       "c  cattle    meat          44.7\n",
       "f    fish     fat          51.3"
      ]
     },
     "execution_count": 3,
     "metadata": {},
     "output_type": "execute_result"
    }
   ],
   "source": [
    "animals_df2 = pd.DataFrame({\n",
    "    \"kind\": [\"bird\", \"cattle\", \"fish\"],\n",
    "    \"product\": [\"egg\", \"meat\", \"fat\"],\n",
    "    \"productivity\": [150.5, 44.7, 51.3]\n",
    "}, index = [\"b\", \"c\", \"f\"])\n",
    "animals_df2"
   ]
  },
  {
   "cell_type": "code",
   "execution_count": 4,
   "id": "ae2193f8",
   "metadata": {},
   "outputs": [
    {
     "data": {
      "text/html": [
       "<div>\n",
       "<style scoped>\n",
       "    .dataframe tbody tr th:only-of-type {\n",
       "        vertical-align: middle;\n",
       "    }\n",
       "\n",
       "    .dataframe tbody tr th {\n",
       "        vertical-align: top;\n",
       "    }\n",
       "\n",
       "    .dataframe thead th {\n",
       "        text-align: right;\n",
       "    }\n",
       "</style>\n",
       "<table border=\"1\" class=\"dataframe\">\n",
       "  <thead>\n",
       "    <tr style=\"text-align: right;\">\n",
       "      <th></th>\n",
       "      <th>kind</th>\n",
       "      <th>product</th>\n",
       "      <th>productivity</th>\n",
       "    </tr>\n",
       "  </thead>\n",
       "  <tbody>\n",
       "    <tr>\n",
       "      <th>one</th>\n",
       "      <td>bird</td>\n",
       "      <td>egg</td>\n",
       "      <td>150.5</td>\n",
       "    </tr>\n",
       "    <tr>\n",
       "      <th>two</th>\n",
       "      <td>cattle</td>\n",
       "      <td>meat</td>\n",
       "      <td>44.7</td>\n",
       "    </tr>\n",
       "    <tr>\n",
       "      <th>free</th>\n",
       "      <td>fish</td>\n",
       "      <td>fat</td>\n",
       "      <td>51.3</td>\n",
       "    </tr>\n",
       "  </tbody>\n",
       "</table>\n",
       "</div>"
      ],
      "text/plain": [
       "        kind product  productivity\n",
       "one     bird     egg         150.5\n",
       "two   cattle    meat          44.7\n",
       "free    fish     fat          51.3"
      ]
     },
     "execution_count": 4,
     "metadata": {},
     "output_type": "execute_result"
    }
   ],
   "source": [
    "animals_df3 = pd.DataFrame({\n",
    "    \"kind\": [\"bird\", \"cattle\", \"fish\"],\n",
    "    \"product\": [\"egg\", \"meat\", \"fat\"],\n",
    "    \"productivity\": [150.5, 44.7, 51.3]\n",
    "})\n",
    "animals_df3.index = [\"one\", \"two\", \"free\"]\n",
    "animals_df3"
   ]
  },
  {
   "cell_type": "markdown",
   "id": "c3c39b34",
   "metadata": {},
   "source": [
    "#### Выборка значений из DataFrame"
   ]
  },
  {
   "cell_type": "markdown",
   "id": "a2ec2255",
   "metadata": {},
   "source": [
    "В начале индекс колонки - затем индекс строки"
   ]
  },
  {
   "cell_type": "code",
   "execution_count": 6,
   "id": "e5fee133",
   "metadata": {},
   "outputs": [
    {
     "data": {
      "text/plain": [
       "'egg'"
      ]
     },
     "execution_count": 6,
     "metadata": {},
     "output_type": "execute_result"
    }
   ],
   "source": [
    "animals_df3[\"product\"][\"one\"]"
   ]
  },
  {
   "cell_type": "code",
   "execution_count": 7,
   "id": "8b12ffca",
   "metadata": {},
   "outputs": [
    {
     "data": {
      "text/plain": [
       "44.7"
      ]
     },
     "execution_count": 7,
     "metadata": {},
     "output_type": "execute_result"
    }
   ],
   "source": [
    "animals_df3.productivity[\"two\"]"
   ]
  },
  {
   "cell_type": "code",
   "execution_count": 8,
   "id": "7505190c",
   "metadata": {},
   "outputs": [
    {
     "data": {
      "text/plain": [
       "'fish'"
      ]
     },
     "execution_count": 8,
     "metadata": {},
     "output_type": "execute_result"
    }
   ],
   "source": [
    "animals_df3.kind.free"
   ]
  },
  {
   "cell_type": "code",
   "execution_count": 11,
   "id": "8d60289b",
   "metadata": {},
   "outputs": [
    {
     "data": {
      "text/plain": [
       "'egg'"
      ]
     },
     "execution_count": 11,
     "metadata": {},
     "output_type": "execute_result"
    }
   ],
   "source": [
    "animals_df3.at[\"one\", \"product\"]"
   ]
  },
  {
   "cell_type": "code",
   "execution_count": 14,
   "id": "89ad3a36",
   "metadata": {},
   "outputs": [
    {
     "data": {
      "text/plain": [
       "'fat'"
      ]
     },
     "execution_count": 14,
     "metadata": {},
     "output_type": "execute_result"
    }
   ],
   "source": [
    "animals_df3.iat[2, 1]"
   ]
  },
  {
   "cell_type": "markdown",
   "id": "8d3f3b6a",
   "metadata": {},
   "source": [
    "#### Выборка строки"
   ]
  },
  {
   "cell_type": "code",
   "execution_count": 15,
   "id": "1634c2d1",
   "metadata": {},
   "outputs": [
    {
     "data": {
      "text/plain": [
       "kind            fish\n",
       "product          fat\n",
       "productivity    51.3\n",
       "Name: free, dtype: object"
      ]
     },
     "execution_count": 15,
     "metadata": {},
     "output_type": "execute_result"
    }
   ],
   "source": [
    "animals_df3.loc[\"free\"]"
   ]
  },
  {
   "cell_type": "code",
   "execution_count": 16,
   "id": "79d67d3a",
   "metadata": {},
   "outputs": [
    {
     "data": {
      "text/plain": [
       "kind            fish\n",
       "product          fat\n",
       "productivity    51.3\n",
       "Name: free, dtype: object"
      ]
     },
     "execution_count": 16,
     "metadata": {},
     "output_type": "execute_result"
    }
   ],
   "source": [
    "animals_df3.iloc[2]"
   ]
  },
  {
   "cell_type": "code",
   "execution_count": 17,
   "id": "adf2710c",
   "metadata": {},
   "outputs": [
    {
     "data": {
      "text/plain": [
       "'fish'"
      ]
     },
     "execution_count": 17,
     "metadata": {},
     "output_type": "execute_result"
    }
   ],
   "source": [
    "animals_df3.iloc[2, 0]"
   ]
  },
  {
   "cell_type": "markdown",
   "id": "e0b6ac59",
   "metadata": {},
   "source": [
    "#### Выборка названий колонок"
   ]
  },
  {
   "cell_type": "code",
   "execution_count": 20,
   "id": "fd002ac6",
   "metadata": {},
   "outputs": [
    {
     "data": {
      "text/plain": [
       "Index(['kind', 'product', 'productivity'], dtype='object')"
      ]
     },
     "execution_count": 20,
     "metadata": {},
     "output_type": "execute_result"
    }
   ],
   "source": [
    "animals_df3.columns"
   ]
  },
  {
   "cell_type": "code",
   "execution_count": null,
   "id": "ac9ca2d8",
   "metadata": {},
   "outputs": [],
   "source": []
  }
 ],
 "metadata": {
  "kernelspec": {
   "display_name": "Python 3 (ipykernel)",
   "language": "python",
   "name": "python3"
  },
  "language_info": {
   "codemirror_mode": {
    "name": "ipython",
    "version": 3
   },
   "file_extension": ".py",
   "mimetype": "text/x-python",
   "name": "python",
   "nbconvert_exporter": "python",
   "pygments_lexer": "ipython3",
   "version": "3.10.0"
  }
 },
 "nbformat": 4,
 "nbformat_minor": 5
}
