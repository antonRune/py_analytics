{
 "cells": [
  {
   "cell_type": "code",
   "execution_count": 1,
   "id": "45343c3a",
   "metadata": {},
   "outputs": [],
   "source": [
    "import pandas as pd"
   ]
  },
  {
   "cell_type": "markdown",
   "id": "7c26d508",
   "metadata": {},
   "source": [
    "#### Чтение из текстового документа"
   ]
  },
  {
   "cell_type": "code",
   "execution_count": 2,
   "id": "5e6427ca",
   "metadata": {},
   "outputs": [
    {
     "name": "stdout",
     "output_type": "stream",
     "text": [
      "   1 Перепел   40   50\n",
      "0  2  Курица  120  140\n",
      "1  3  Кролик  140  250\n"
     ]
    }
   ],
   "source": [
    "t_df = pd.read_csv(\"feeding.txt\")\n",
    "print(t_df)"
   ]
  },
  {
   "cell_type": "markdown",
   "id": "5f521066",
   "metadata": {},
   "source": [
    "#### Заголовки"
   ]
  },
  {
   "cell_type": "code",
   "execution_count": 3,
   "id": "22075729",
   "metadata": {},
   "outputs": [
    {
     "name": "stdout",
     "output_type": "stream",
     "text": [
      "   id     kind  minimum  maximum\n",
      "0   1  Перепел       40       50\n",
      "1   2   Курица      120      140\n",
      "2   3   Кролик      140      250\n"
     ]
    }
   ],
   "source": [
    "t2_df = pd.read_csv(\"feeding.txt\", names=[\"id\", \"kind\", \"minimum\", \"maximum\"])\n",
    "print(t2_df)"
   ]
  },
  {
   "cell_type": "markdown",
   "id": "4a0bcc16",
   "metadata": {},
   "source": [
    "#### Кодировка"
   ]
  },
  {
   "cell_type": "code",
   "execution_count": 4,
   "id": "6f93245c",
   "metadata": {},
   "outputs": [
    {
     "name": "stdout",
     "output_type": "stream",
     "text": [
      "   id     kind  minimum  maximum\n",
      "0   1  Перепел       40       50\n",
      "1   2   Курица      120      140\n",
      "2   3   Кролик      140      250\n"
     ]
    }
   ],
   "source": [
    "t3_df = pd.read_csv(\"feeding.txt\", names=[\"id\", \"kind\", \"minimum\", \"maximum\"], encoding=\"utf-8\")\n",
    "print(t3_df)"
   ]
  },
  {
   "cell_type": "markdown",
   "id": "40c3e138",
   "metadata": {},
   "source": [
    "#### Чтение из csv"
   ]
  },
  {
   "cell_type": "code",
   "execution_count": 5,
   "id": "86058308",
   "metadata": {},
   "outputs": [
    {
     "name": "stdout",
     "output_type": "stream",
     "text": [
      "                                Заголовок  Наличие  Пройдено Рейтинг\n",
      "0                Ultimate Mortal Kombat 3    False     False     NaN\n",
      "1                              Comix Zone    False     False     NaN\n",
      "2                              Chuck Rock    False     False     NaN\n",
      "3                           Earthworm Jim    False     False     NaN\n",
      "4                         Earthworm Jim 2    False     False     NaN\n",
      "..                                    ...      ...       ...     ...\n",
      "111                           Marsupilami    False     False     NaN\n",
      "112  Might and Magic III - Isles of Terra    False     False     NaN\n",
      "113                         King's Bounty    False     False     NaN\n",
      "114                  Addams Family Values    False     False     NaN\n",
      "115           Mary Shelley's Frankenstein    False     False     NaN\n",
      "\n",
      "[116 rows x 4 columns]\n"
     ]
    }
   ],
   "source": [
    "sega_games_df = pd.read_csv(\"sega games.csv\", sep=\",\", encoding=\"utf-8\", \n",
    "                            names=[\"Заголовок\", \"Наличие\", \"Пройдено\", \"Рейтинг\"], header=0)\n",
    "print(sega_games_df)"
   ]
  },
  {
   "cell_type": "markdown",
   "id": "82721386",
   "metadata": {},
   "source": [
    "#### Чтение из сети"
   ]
  },
  {
   "cell_type": "code",
   "execution_count": 7,
   "id": "e43ac16a",
   "metadata": {
    "scrolled": true
   },
   "outputs": [
    {
     "name": "stdout",
     "output_type": "stream",
     "text": [
      "[                                        Катрин Каниц  \\\n",
      "0                                                NaN   \n",
      "1                                Персональные данные   \n",
      "2                                       Представляет   \n",
      "3                                      Дата рождения   \n",
      "4                                    Бывшие партнёры   \n",
      "5                              Спортивные достижения   \n",
      "6  Лучшие результаты по системе ИСУ(на международ...   \n",
      "7                                              Сумма   \n",
      "8                           Медиафайлы на Викискладе   \n",
      "\n",
      "                                      Катрин Каниц.1  \n",
      "0                                                NaN  \n",
      "1                                Персональные данные  \n",
      "2                                                ГДР  \n",
      "3                                               1970  \n",
      "4                                      Тобиас Шрётер  \n",
      "5                              Спортивные достижения  \n",
      "6  Лучшие результаты по системе ИСУ(на международ...  \n",
      "7         Не соревновалась по Новойсудейской системе  \n",
      "8                           Медиафайлы на Викискладе  ,                  Соревнования  1985-1986  1986-1987\n",
      "0             Чемпионаты мира        9.0        NaN\n",
      "1           Чемпионаты Европы        4.0        3.0\n",
      "2              Чемпионаты ГДР        1.0        1.0\n",
      "3  Skate Canada International        NaN        6.0,                        Чемпионы ГДР в парном катании  \\\n",
      "0  1950—1952: Вера Лампе и Хорст Курюбер 1954—195...   \n",
      "\n",
      "   Чемпионы ГДР в парном катании.1  \n",
      "0                              NaN  ]\n"
     ]
    }
   ],
   "source": [
    "feed_df = pd.read_html(\"https://ru.wikipedia.org/wiki/%D0%9A%D0%B0%D0%BD%D0%B8%D1%86,_%D0%9A%D0%B0%D1%82%D1%80%D0%B8%D0%BD\")\n",
    "print(feed_df)"
   ]
  },
  {
   "cell_type": "code",
   "execution_count": 8,
   "id": "60da5b5e",
   "metadata": {},
   "outputs": [
    {
     "name": "stdout",
     "output_type": "stream",
     "text": [
      "3\n"
     ]
    }
   ],
   "source": [
    "print(len(feed_df))"
   ]
  },
  {
   "cell_type": "code",
   "execution_count": 16,
   "id": "5d771b7f",
   "metadata": {},
   "outputs": [
    {
     "data": {
      "text/html": [
       "<div>\n",
       "<style scoped>\n",
       "    .dataframe tbody tr th:only-of-type {\n",
       "        vertical-align: middle;\n",
       "    }\n",
       "\n",
       "    .dataframe tbody tr th {\n",
       "        vertical-align: top;\n",
       "    }\n",
       "\n",
       "    .dataframe thead th {\n",
       "        text-align: right;\n",
       "    }\n",
       "</style>\n",
       "<table border=\"1\" class=\"dataframe\">\n",
       "  <thead>\n",
       "    <tr style=\"text-align: right;\">\n",
       "      <th></th>\n",
       "      <th>competitions</th>\n",
       "      <th>1985</th>\n",
       "      <th>1986</th>\n",
       "    </tr>\n",
       "  </thead>\n",
       "  <tbody>\n",
       "    <tr>\n",
       "      <th>0</th>\n",
       "      <td>Чемпионаты мира</td>\n",
       "      <td>9.0</td>\n",
       "      <td>NaN</td>\n",
       "    </tr>\n",
       "    <tr>\n",
       "      <th>1</th>\n",
       "      <td>Чемпионаты Европы</td>\n",
       "      <td>4.0</td>\n",
       "      <td>3.0</td>\n",
       "    </tr>\n",
       "    <tr>\n",
       "      <th>2</th>\n",
       "      <td>Чемпионаты ГДР</td>\n",
       "      <td>1.0</td>\n",
       "      <td>1.0</td>\n",
       "    </tr>\n",
       "    <tr>\n",
       "      <th>3</th>\n",
       "      <td>Skate Canada International</td>\n",
       "      <td>NaN</td>\n",
       "      <td>6.0</td>\n",
       "    </tr>\n",
       "  </tbody>\n",
       "</table>\n",
       "</div>"
      ],
      "text/plain": [
       "                 competitions  1985  1986\n",
       "0             Чемпионаты мира   9.0   NaN\n",
       "1           Чемпионаты Европы   4.0   3.0\n",
       "2              Чемпионаты ГДР   1.0   1.0\n",
       "3  Skate Canada International   NaN   6.0"
      ]
     },
     "execution_count": 16,
     "metadata": {},
     "output_type": "execute_result"
    }
   ],
   "source": [
    "us_df = feed_df[1]\n",
    "us_df.columns = [\"competitions\", \"1985\", \"1986\"]\n",
    "us_df"
   ]
  },
  {
   "cell_type": "code",
   "execution_count": null,
   "id": "d800fa33",
   "metadata": {},
   "outputs": [],
   "source": []
  }
 ],
 "metadata": {
  "kernelspec": {
   "display_name": "Python 3 (ipykernel)",
   "language": "python",
   "name": "python3"
  },
  "language_info": {
   "codemirror_mode": {
    "name": "ipython",
    "version": 3
   },
   "file_extension": ".py",
   "mimetype": "text/x-python",
   "name": "python",
   "nbconvert_exporter": "python",
   "pygments_lexer": "ipython3",
   "version": "3.10.0"
  }
 },
 "nbformat": 4,
 "nbformat_minor": 5
}
