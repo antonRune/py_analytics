{
 "cells": [
  {
   "cell_type": "code",
   "execution_count": 1,
   "id": "7f78f25c",
   "metadata": {},
   "outputs": [],
   "source": [
    "import pandas as pd"
   ]
  },
  {
   "cell_type": "code",
   "execution_count": 2,
   "id": "44705720",
   "metadata": {},
   "outputs": [
    {
     "data": {
      "text/html": [
       "<div>\n",
       "<style scoped>\n",
       "    .dataframe tbody tr th:only-of-type {\n",
       "        vertical-align: middle;\n",
       "    }\n",
       "\n",
       "    .dataframe tbody tr th {\n",
       "        vertical-align: top;\n",
       "    }\n",
       "\n",
       "    .dataframe thead th {\n",
       "        text-align: right;\n",
       "    }\n",
       "</style>\n",
       "<table border=\"1\" class=\"dataframe\">\n",
       "  <thead>\n",
       "    <tr style=\"text-align: right;\">\n",
       "      <th></th>\n",
       "      <th>name</th>\n",
       "      <th>downloaded</th>\n",
       "      <th>passed</th>\n",
       "      <th>rating</th>\n",
       "    </tr>\n",
       "  </thead>\n",
       "  <tbody>\n",
       "    <tr>\n",
       "      <th>0</th>\n",
       "      <td>Ultimate Mortal Kombat 3</td>\n",
       "      <td>False</td>\n",
       "      <td>False</td>\n",
       "      <td>NaN</td>\n",
       "    </tr>\n",
       "    <tr>\n",
       "      <th>1</th>\n",
       "      <td>Comix Zone</td>\n",
       "      <td>False</td>\n",
       "      <td>False</td>\n",
       "      <td>NaN</td>\n",
       "    </tr>\n",
       "    <tr>\n",
       "      <th>2</th>\n",
       "      <td>Chuck Rock</td>\n",
       "      <td>False</td>\n",
       "      <td>False</td>\n",
       "      <td>NaN</td>\n",
       "    </tr>\n",
       "    <tr>\n",
       "      <th>3</th>\n",
       "      <td>Earthworm Jim</td>\n",
       "      <td>False</td>\n",
       "      <td>False</td>\n",
       "      <td>NaN</td>\n",
       "    </tr>\n",
       "    <tr>\n",
       "      <th>4</th>\n",
       "      <td>Earthworm Jim 2</td>\n",
       "      <td>False</td>\n",
       "      <td>False</td>\n",
       "      <td>NaN</td>\n",
       "    </tr>\n",
       "    <tr>\n",
       "      <th>...</th>\n",
       "      <td>...</td>\n",
       "      <td>...</td>\n",
       "      <td>...</td>\n",
       "      <td>...</td>\n",
       "    </tr>\n",
       "    <tr>\n",
       "      <th>111</th>\n",
       "      <td>Marsupilami</td>\n",
       "      <td>False</td>\n",
       "      <td>False</td>\n",
       "      <td>NaN</td>\n",
       "    </tr>\n",
       "    <tr>\n",
       "      <th>112</th>\n",
       "      <td>Might and Magic III - Isles of Terra</td>\n",
       "      <td>False</td>\n",
       "      <td>False</td>\n",
       "      <td>NaN</td>\n",
       "    </tr>\n",
       "    <tr>\n",
       "      <th>113</th>\n",
       "      <td>King's Bounty</td>\n",
       "      <td>False</td>\n",
       "      <td>False</td>\n",
       "      <td>NaN</td>\n",
       "    </tr>\n",
       "    <tr>\n",
       "      <th>114</th>\n",
       "      <td>Addams Family Values</td>\n",
       "      <td>False</td>\n",
       "      <td>False</td>\n",
       "      <td>NaN</td>\n",
       "    </tr>\n",
       "    <tr>\n",
       "      <th>115</th>\n",
       "      <td>Mary Shelley's Frankenstein</td>\n",
       "      <td>False</td>\n",
       "      <td>False</td>\n",
       "      <td>NaN</td>\n",
       "    </tr>\n",
       "  </tbody>\n",
       "</table>\n",
       "<p>116 rows × 4 columns</p>\n",
       "</div>"
      ],
      "text/plain": [
       "                                     name  downloaded  passed rating\n",
       "0                Ultimate Mortal Kombat 3       False   False    NaN\n",
       "1                              Comix Zone       False   False    NaN\n",
       "2                              Chuck Rock       False   False    NaN\n",
       "3                           Earthworm Jim       False   False    NaN\n",
       "4                         Earthworm Jim 2       False   False    NaN\n",
       "..                                    ...         ...     ...    ...\n",
       "111                           Marsupilami       False   False    NaN\n",
       "112  Might and Magic III - Isles of Terra       False   False    NaN\n",
       "113                         King's Bounty       False   False    NaN\n",
       "114                  Addams Family Values       False   False    NaN\n",
       "115           Mary Shelley's Frankenstein       False   False    NaN\n",
       "\n",
       "[116 rows x 4 columns]"
      ]
     },
     "execution_count": 2,
     "metadata": {},
     "output_type": "execute_result"
    }
   ],
   "source": [
    "feed_df = pd.read_csv(\"sega games.csv\")\n",
    "feed_df"
   ]
  },
  {
   "cell_type": "markdown",
   "id": "10df619d",
   "metadata": {},
   "source": [
    "#### Отображение головы dataFrame"
   ]
  },
  {
   "cell_type": "code",
   "execution_count": 3,
   "id": "2c108f7a",
   "metadata": {},
   "outputs": [
    {
     "data": {
      "text/html": [
       "<div>\n",
       "<style scoped>\n",
       "    .dataframe tbody tr th:only-of-type {\n",
       "        vertical-align: middle;\n",
       "    }\n",
       "\n",
       "    .dataframe tbody tr th {\n",
       "        vertical-align: top;\n",
       "    }\n",
       "\n",
       "    .dataframe thead th {\n",
       "        text-align: right;\n",
       "    }\n",
       "</style>\n",
       "<table border=\"1\" class=\"dataframe\">\n",
       "  <thead>\n",
       "    <tr style=\"text-align: right;\">\n",
       "      <th></th>\n",
       "      <th>name</th>\n",
       "      <th>downloaded</th>\n",
       "      <th>passed</th>\n",
       "      <th>rating</th>\n",
       "    </tr>\n",
       "  </thead>\n",
       "  <tbody>\n",
       "    <tr>\n",
       "      <th>0</th>\n",
       "      <td>Ultimate Mortal Kombat 3</td>\n",
       "      <td>False</td>\n",
       "      <td>False</td>\n",
       "      <td>NaN</td>\n",
       "    </tr>\n",
       "    <tr>\n",
       "      <th>1</th>\n",
       "      <td>Comix Zone</td>\n",
       "      <td>False</td>\n",
       "      <td>False</td>\n",
       "      <td>NaN</td>\n",
       "    </tr>\n",
       "    <tr>\n",
       "      <th>2</th>\n",
       "      <td>Chuck Rock</td>\n",
       "      <td>False</td>\n",
       "      <td>False</td>\n",
       "      <td>NaN</td>\n",
       "    </tr>\n",
       "    <tr>\n",
       "      <th>3</th>\n",
       "      <td>Earthworm Jim</td>\n",
       "      <td>False</td>\n",
       "      <td>False</td>\n",
       "      <td>NaN</td>\n",
       "    </tr>\n",
       "    <tr>\n",
       "      <th>4</th>\n",
       "      <td>Earthworm Jim 2</td>\n",
       "      <td>False</td>\n",
       "      <td>False</td>\n",
       "      <td>NaN</td>\n",
       "    </tr>\n",
       "    <tr>\n",
       "      <th>5</th>\n",
       "      <td>Teenage Mutant Ninja Turtles - The Hyperstone ...</td>\n",
       "      <td>True</td>\n",
       "      <td>False</td>\n",
       "      <td>Best</td>\n",
       "    </tr>\n",
       "    <tr>\n",
       "      <th>6</th>\n",
       "      <td>Contra - Hard Corps</td>\n",
       "      <td>False</td>\n",
       "      <td>False</td>\n",
       "      <td>NaN</td>\n",
       "    </tr>\n",
       "  </tbody>\n",
       "</table>\n",
       "</div>"
      ],
      "text/plain": [
       "                                                name  downloaded  passed  \\\n",
       "0                           Ultimate Mortal Kombat 3       False   False   \n",
       "1                                         Comix Zone       False   False   \n",
       "2                                         Chuck Rock       False   False   \n",
       "3                                      Earthworm Jim       False   False   \n",
       "4                                    Earthworm Jim 2       False   False   \n",
       "5  Teenage Mutant Ninja Turtles - The Hyperstone ...        True   False   \n",
       "6                                Contra - Hard Corps       False   False   \n",
       "\n",
       "  rating  \n",
       "0    NaN  \n",
       "1    NaN  \n",
       "2    NaN  \n",
       "3    NaN  \n",
       "4    NaN  \n",
       "5   Best  \n",
       "6    NaN  "
      ]
     },
     "execution_count": 3,
     "metadata": {},
     "output_type": "execute_result"
    }
   ],
   "source": [
    "feed_df.head(7)"
   ]
  },
  {
   "cell_type": "markdown",
   "id": "7dc081f3",
   "metadata": {},
   "source": [
    "#### Отображение хвоста"
   ]
  },
  {
   "cell_type": "code",
   "execution_count": 4,
   "id": "612407fc",
   "metadata": {},
   "outputs": [
    {
     "data": {
      "text/html": [
       "<div>\n",
       "<style scoped>\n",
       "    .dataframe tbody tr th:only-of-type {\n",
       "        vertical-align: middle;\n",
       "    }\n",
       "\n",
       "    .dataframe tbody tr th {\n",
       "        vertical-align: top;\n",
       "    }\n",
       "\n",
       "    .dataframe thead th {\n",
       "        text-align: right;\n",
       "    }\n",
       "</style>\n",
       "<table border=\"1\" class=\"dataframe\">\n",
       "  <thead>\n",
       "    <tr style=\"text-align: right;\">\n",
       "      <th></th>\n",
       "      <th>name</th>\n",
       "      <th>downloaded</th>\n",
       "      <th>passed</th>\n",
       "      <th>rating</th>\n",
       "    </tr>\n",
       "  </thead>\n",
       "  <tbody>\n",
       "    <tr>\n",
       "      <th>104</th>\n",
       "      <td>Bonkers</td>\n",
       "      <td>False</td>\n",
       "      <td>False</td>\n",
       "      <td>NaN</td>\n",
       "    </tr>\n",
       "    <tr>\n",
       "      <th>105</th>\n",
       "      <td>Mickey's Ultimate Challenge</td>\n",
       "      <td>True</td>\n",
       "      <td>False</td>\n",
       "      <td>Good</td>\n",
       "    </tr>\n",
       "    <tr>\n",
       "      <th>106</th>\n",
       "      <td>Ferias Frustradas do Pica-Pau</td>\n",
       "      <td>False</td>\n",
       "      <td>False</td>\n",
       "      <td>NaN</td>\n",
       "    </tr>\n",
       "    <tr>\n",
       "      <th>107</th>\n",
       "      <td>Spider-Man and X-Men - Arcade's Revenge</td>\n",
       "      <td>False</td>\n",
       "      <td>False</td>\n",
       "      <td>NaN</td>\n",
       "    </tr>\n",
       "    <tr>\n",
       "      <th>108</th>\n",
       "      <td>ECCO Jr.</td>\n",
       "      <td>False</td>\n",
       "      <td>False</td>\n",
       "      <td>NaN</td>\n",
       "    </tr>\n",
       "    <tr>\n",
       "      <th>109</th>\n",
       "      <td>Tick, The</td>\n",
       "      <td>False</td>\n",
       "      <td>False</td>\n",
       "      <td>NaN</td>\n",
       "    </tr>\n",
       "    <tr>\n",
       "      <th>110</th>\n",
       "      <td>Primal Rage</td>\n",
       "      <td>False</td>\n",
       "      <td>False</td>\n",
       "      <td>NaN</td>\n",
       "    </tr>\n",
       "    <tr>\n",
       "      <th>111</th>\n",
       "      <td>Marsupilami</td>\n",
       "      <td>False</td>\n",
       "      <td>False</td>\n",
       "      <td>NaN</td>\n",
       "    </tr>\n",
       "    <tr>\n",
       "      <th>112</th>\n",
       "      <td>Might and Magic III - Isles of Terra</td>\n",
       "      <td>False</td>\n",
       "      <td>False</td>\n",
       "      <td>NaN</td>\n",
       "    </tr>\n",
       "    <tr>\n",
       "      <th>113</th>\n",
       "      <td>King's Bounty</td>\n",
       "      <td>False</td>\n",
       "      <td>False</td>\n",
       "      <td>NaN</td>\n",
       "    </tr>\n",
       "    <tr>\n",
       "      <th>114</th>\n",
       "      <td>Addams Family Values</td>\n",
       "      <td>False</td>\n",
       "      <td>False</td>\n",
       "      <td>NaN</td>\n",
       "    </tr>\n",
       "    <tr>\n",
       "      <th>115</th>\n",
       "      <td>Mary Shelley's Frankenstein</td>\n",
       "      <td>False</td>\n",
       "      <td>False</td>\n",
       "      <td>NaN</td>\n",
       "    </tr>\n",
       "  </tbody>\n",
       "</table>\n",
       "</div>"
      ],
      "text/plain": [
       "                                        name  downloaded  passed rating\n",
       "104                                  Bonkers       False   False    NaN\n",
       "105              Mickey's Ultimate Challenge        True   False   Good\n",
       "106            Ferias Frustradas do Pica-Pau       False   False    NaN\n",
       "107  Spider-Man and X-Men - Arcade's Revenge       False   False    NaN\n",
       "108                                 ECCO Jr.       False   False    NaN\n",
       "109                                Tick, The       False   False    NaN\n",
       "110                              Primal Rage       False   False    NaN\n",
       "111                              Marsupilami       False   False    NaN\n",
       "112     Might and Magic III - Isles of Terra       False   False    NaN\n",
       "113                            King's Bounty       False   False    NaN\n",
       "114                     Addams Family Values       False   False    NaN\n",
       "115              Mary Shelley's Frankenstein       False   False    NaN"
      ]
     },
     "execution_count": 4,
     "metadata": {},
     "output_type": "execute_result"
    }
   ],
   "source": [
    "feed_df.tail(12)"
   ]
  },
  {
   "cell_type": "markdown",
   "id": "96c53846",
   "metadata": {},
   "source": [
    "#### Количество строк"
   ]
  },
  {
   "cell_type": "code",
   "execution_count": 5,
   "id": "29129c07",
   "metadata": {},
   "outputs": [
    {
     "data": {
      "text/plain": [
       "116"
      ]
     },
     "execution_count": 5,
     "metadata": {},
     "output_type": "execute_result"
    }
   ],
   "source": [
    "len(feed_df)"
   ]
  },
  {
   "cell_type": "markdown",
   "id": "bed8761a",
   "metadata": {},
   "source": [
    "#### Количество строк и колонок"
   ]
  },
  {
   "cell_type": "code",
   "execution_count": 6,
   "id": "cc9c10a4",
   "metadata": {},
   "outputs": [
    {
     "data": {
      "text/plain": [
       "(116, 4)"
      ]
     },
     "execution_count": 6,
     "metadata": {},
     "output_type": "execute_result"
    }
   ],
   "source": [
    "feed_df.shape"
   ]
  },
  {
   "cell_type": "markdown",
   "id": "46d4eca6",
   "metadata": {},
   "source": [
    "#### Информация о dataFrame"
   ]
  },
  {
   "cell_type": "code",
   "execution_count": 7,
   "id": "f6c5daac",
   "metadata": {},
   "outputs": [
    {
     "name": "stdout",
     "output_type": "stream",
     "text": [
      "<class 'pandas.core.frame.DataFrame'>\n",
      "RangeIndex: 116 entries, 0 to 115\n",
      "Data columns (total 4 columns):\n",
      " #   Column      Non-Null Count  Dtype \n",
      "---  ------      --------------  ----- \n",
      " 0   name        116 non-null    object\n",
      " 1   downloaded  116 non-null    bool  \n",
      " 2   passed      116 non-null    bool  \n",
      " 3   rating      5 non-null      object\n",
      "dtypes: bool(2), object(2)\n",
      "memory usage: 2.2+ KB\n"
     ]
    }
   ],
   "source": [
    "feed_df.info()"
   ]
  },
  {
   "cell_type": "code",
   "execution_count": 8,
   "id": "6ec4d133",
   "metadata": {},
   "outputs": [
    {
     "data": {
      "text/html": [
       "<div>\n",
       "<style scoped>\n",
       "    .dataframe tbody tr th:only-of-type {\n",
       "        vertical-align: middle;\n",
       "    }\n",
       "\n",
       "    .dataframe tbody tr th {\n",
       "        vertical-align: top;\n",
       "    }\n",
       "\n",
       "    .dataframe thead th {\n",
       "        text-align: right;\n",
       "    }\n",
       "</style>\n",
       "<table border=\"1\" class=\"dataframe\">\n",
       "  <thead>\n",
       "    <tr style=\"text-align: right;\">\n",
       "      <th></th>\n",
       "      <th>name</th>\n",
       "      <th>downloaded</th>\n",
       "      <th>passed</th>\n",
       "      <th>rating</th>\n",
       "    </tr>\n",
       "  </thead>\n",
       "  <tbody>\n",
       "    <tr>\n",
       "      <th>5</th>\n",
       "      <td>Teenage Mutant Ninja Turtles - The Hyperstone ...</td>\n",
       "      <td>True</td>\n",
       "      <td>False</td>\n",
       "      <td>Best</td>\n",
       "    </tr>\n",
       "    <tr>\n",
       "      <th>12</th>\n",
       "      <td>Boogerman</td>\n",
       "      <td>True</td>\n",
       "      <td>True</td>\n",
       "      <td>Best</td>\n",
       "    </tr>\n",
       "    <tr>\n",
       "      <th>20</th>\n",
       "      <td>Teenage Mutant Ninja Turtles - Tournament Figh...</td>\n",
       "      <td>True</td>\n",
       "      <td>False</td>\n",
       "      <td>Bad</td>\n",
       "    </tr>\n",
       "    <tr>\n",
       "      <th>30</th>\n",
       "      <td>Mortal Kombat</td>\n",
       "      <td>True</td>\n",
       "      <td>False</td>\n",
       "      <td>Good</td>\n",
       "    </tr>\n",
       "    <tr>\n",
       "      <th>105</th>\n",
       "      <td>Mickey's Ultimate Challenge</td>\n",
       "      <td>True</td>\n",
       "      <td>False</td>\n",
       "      <td>Good</td>\n",
       "    </tr>\n",
       "  </tbody>\n",
       "</table>\n",
       "</div>"
      ],
      "text/plain": [
       "                                                  name  downloaded  passed  \\\n",
       "5    Teenage Mutant Ninja Turtles - The Hyperstone ...        True   False   \n",
       "12                                           Boogerman        True    True   \n",
       "20   Teenage Mutant Ninja Turtles - Tournament Figh...        True   False   \n",
       "30                                       Mortal Kombat        True   False   \n",
       "105                        Mickey's Ultimate Challenge        True   False   \n",
       "\n",
       "    rating  \n",
       "5     Best  \n",
       "12    Best  \n",
       "20     Bad  \n",
       "30    Good  \n",
       "105   Good  "
      ]
     },
     "execution_count": 8,
     "metadata": {},
     "output_type": "execute_result"
    }
   ],
   "source": [
    "feed_df[feed_df[\"downloaded\"] == True]"
   ]
  },
  {
   "cell_type": "markdown",
   "id": "619d4c15",
   "metadata": {},
   "source": [
    "#### Статистическая сводка"
   ]
  },
  {
   "cell_type": "code",
   "execution_count": 9,
   "id": "b8ca0620",
   "metadata": {},
   "outputs": [
    {
     "name": "stdout",
     "output_type": "stream",
     "text": [
      "   id     kind  minimum  maximum\n",
      "0   1  Перепел       40       50\n",
      "1   2   Курица      120      140\n",
      "2   3   Кролик      140      250\n"
     ]
    }
   ],
   "source": [
    "feed_comby_df = pd.read_csv(\"feeding.txt\", names=[\"id\", \"kind\", \"minimum\", \"maximum\"])\n",
    "print(feed_comby_df)"
   ]
  },
  {
   "cell_type": "code",
   "execution_count": 10,
   "id": "ade093fc",
   "metadata": {},
   "outputs": [
    {
     "data": {
      "text/html": [
       "<div>\n",
       "<style scoped>\n",
       "    .dataframe tbody tr th:only-of-type {\n",
       "        vertical-align: middle;\n",
       "    }\n",
       "\n",
       "    .dataframe tbody tr th {\n",
       "        vertical-align: top;\n",
       "    }\n",
       "\n",
       "    .dataframe thead th {\n",
       "        text-align: right;\n",
       "    }\n",
       "</style>\n",
       "<table border=\"1\" class=\"dataframe\">\n",
       "  <thead>\n",
       "    <tr style=\"text-align: right;\">\n",
       "      <th></th>\n",
       "      <th>id</th>\n",
       "      <th>minimum</th>\n",
       "      <th>maximum</th>\n",
       "    </tr>\n",
       "  </thead>\n",
       "  <tbody>\n",
       "    <tr>\n",
       "      <th>count</th>\n",
       "      <td>3.0</td>\n",
       "      <td>3.000000</td>\n",
       "      <td>3.000000</td>\n",
       "    </tr>\n",
       "    <tr>\n",
       "      <th>mean</th>\n",
       "      <td>2.0</td>\n",
       "      <td>100.000000</td>\n",
       "      <td>146.666667</td>\n",
       "    </tr>\n",
       "    <tr>\n",
       "      <th>std</th>\n",
       "      <td>1.0</td>\n",
       "      <td>52.915026</td>\n",
       "      <td>100.166528</td>\n",
       "    </tr>\n",
       "    <tr>\n",
       "      <th>min</th>\n",
       "      <td>1.0</td>\n",
       "      <td>40.000000</td>\n",
       "      <td>50.000000</td>\n",
       "    </tr>\n",
       "    <tr>\n",
       "      <th>25%</th>\n",
       "      <td>1.5</td>\n",
       "      <td>80.000000</td>\n",
       "      <td>95.000000</td>\n",
       "    </tr>\n",
       "    <tr>\n",
       "      <th>50%</th>\n",
       "      <td>2.0</td>\n",
       "      <td>120.000000</td>\n",
       "      <td>140.000000</td>\n",
       "    </tr>\n",
       "    <tr>\n",
       "      <th>75%</th>\n",
       "      <td>2.5</td>\n",
       "      <td>130.000000</td>\n",
       "      <td>195.000000</td>\n",
       "    </tr>\n",
       "    <tr>\n",
       "      <th>max</th>\n",
       "      <td>3.0</td>\n",
       "      <td>140.000000</td>\n",
       "      <td>250.000000</td>\n",
       "    </tr>\n",
       "  </tbody>\n",
       "</table>\n",
       "</div>"
      ],
      "text/plain": [
       "        id     minimum     maximum\n",
       "count  3.0    3.000000    3.000000\n",
       "mean   2.0  100.000000  146.666667\n",
       "std    1.0   52.915026  100.166528\n",
       "min    1.0   40.000000   50.000000\n",
       "25%    1.5   80.000000   95.000000\n",
       "50%    2.0  120.000000  140.000000\n",
       "75%    2.5  130.000000  195.000000\n",
       "max    3.0  140.000000  250.000000"
      ]
     },
     "execution_count": 10,
     "metadata": {},
     "output_type": "execute_result"
    }
   ],
   "source": [
    "feed_comby_df.describe()"
   ]
  },
  {
   "cell_type": "markdown",
   "id": "df6e5b27",
   "metadata": {},
   "source": [
    "#### Выборка по уникальных значений"
   ]
  },
  {
   "cell_type": "code",
   "execution_count": 11,
   "id": "050142d7",
   "metadata": {},
   "outputs": [
    {
     "data": {
      "text/plain": [
       "array([nan, 'Best', 'Bad', 'Good'], dtype=object)"
      ]
     },
     "execution_count": 11,
     "metadata": {},
     "output_type": "execute_result"
    }
   ],
   "source": [
    "feed_df.rating.unique()"
   ]
  },
  {
   "cell_type": "markdown",
   "id": "587bd59e",
   "metadata": {},
   "source": [
    "#### Количество уникальных значений"
   ]
  },
  {
   "cell_type": "code",
   "execution_count": 12,
   "id": "53cfacb0",
   "metadata": {},
   "outputs": [
    {
     "data": {
      "text/plain": [
       "116"
      ]
     },
     "execution_count": 12,
     "metadata": {},
     "output_type": "execute_result"
    }
   ],
   "source": [
    "feed_df.name.unique().size"
   ]
  },
  {
   "cell_type": "markdown",
   "id": "2619d871",
   "metadata": {},
   "source": [
    "#### Индексы и колонки"
   ]
  },
  {
   "cell_type": "code",
   "execution_count": 13,
   "id": "0bd37f72",
   "metadata": {},
   "outputs": [
    {
     "data": {
      "text/plain": [
       "RangeIndex(start=0, stop=116, step=1)"
      ]
     },
     "execution_count": 13,
     "metadata": {},
     "output_type": "execute_result"
    }
   ],
   "source": [
    "feed_df.index"
   ]
  },
  {
   "cell_type": "code",
   "execution_count": 14,
   "id": "d9afffff",
   "metadata": {},
   "outputs": [
    {
     "data": {
      "text/plain": [
       "Index(['name', 'downloaded', 'passed', 'rating'], dtype='object')"
      ]
     },
     "execution_count": 14,
     "metadata": {},
     "output_type": "execute_result"
    }
   ],
   "source": [
    "feed_df.columns"
   ]
  },
  {
   "cell_type": "markdown",
   "id": "9e974064",
   "metadata": {},
   "source": [
    "#### Подсчет, группировка и сортировка"
   ]
  },
  {
   "cell_type": "code",
   "execution_count": 17,
   "id": "3ee66daa",
   "metadata": {},
   "outputs": [
    {
     "data": {
      "text/plain": [
       "False    0.956897\n",
       "True     0.043103\n",
       "Name: downloaded, dtype: float64"
      ]
     },
     "execution_count": 17,
     "metadata": {},
     "output_type": "execute_result"
    }
   ],
   "source": [
    "feed_df.downloaded.value_counts(normalize=True)"
   ]
  },
  {
   "cell_type": "code",
   "execution_count": 19,
   "id": "ad5e4dd9",
   "metadata": {},
   "outputs": [
    {
     "data": {
      "text/plain": [
       "Best    2\n",
       "Good    2\n",
       "Bad     1\n",
       "Name: rating, dtype: int64"
      ]
     },
     "execution_count": 19,
     "metadata": {},
     "output_type": "execute_result"
    }
   ],
   "source": [
    "feed_df.rating.value_counts(normalize=False)"
   ]
  },
  {
   "cell_type": "code",
   "execution_count": null,
   "id": "26887317",
   "metadata": {},
   "outputs": [],
   "source": []
  }
 ],
 "metadata": {
  "kernelspec": {
   "display_name": "Python 3 (ipykernel)",
   "language": "python",
   "name": "python3"
  },
  "language_info": {
   "codemirror_mode": {
    "name": "ipython",
    "version": 3
   },
   "file_extension": ".py",
   "mimetype": "text/x-python",
   "name": "python",
   "nbconvert_exporter": "python",
   "pygments_lexer": "ipython3",
   "version": "3.10.0"
  }
 },
 "nbformat": 4,
 "nbformat_minor": 5
}
