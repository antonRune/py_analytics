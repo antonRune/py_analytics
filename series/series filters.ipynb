{
 "cells": [
  {
   "cell_type": "markdown",
   "id": "ea6da908",
   "metadata": {},
   "source": [
    "# Фильтры"
   ]
  },
  {
   "cell_type": "code",
   "execution_count": 1,
   "id": "284dcf75",
   "metadata": {},
   "outputs": [],
   "source": [
    "import pandas as pd"
   ]
  },
  {
   "cell_type": "code",
   "execution_count": 4,
   "id": "828590da",
   "metadata": {},
   "outputs": [
    {
     "name": "stdout",
     "output_type": "stream",
     "text": [
      "RKZ-PerepelStart     45.0\n",
      "RKZ-PerepelFinish    35.0\n",
      "RKZ-KuriStart        38.0\n",
      "RKZ-Kuri             33.0\n",
      "RKZ-Utki              NaN\n",
      "dtype: float64\n"
     ]
    }
   ],
   "source": [
    "combi = {\"RKZ-PerepelStart\": 45, \"RKZ-PerepelFinish\": 35, \"RKZ-KuriStart\": 38, \"RKZ-KuriRost\": 34, \"RKZ-Kuri\": 33}\n",
    "price_combi = pd.Series(combi, index=[\"RKZ-PerepelStart\", \"RKZ-PerepelFinish\", \"RKZ-KuriStart\", \"RKZ-Kuri\", \"RKZ-Utki\"])\n",
    "print(price_combi)"
   ]
  },
  {
   "cell_type": "markdown",
   "id": "209a9453",
   "metadata": {},
   "source": [
    "#### Замена на булевые значения. True - нулевое значение"
   ]
  },
  {
   "cell_type": "code",
   "execution_count": 6,
   "id": "2e2e0698",
   "metadata": {},
   "outputs": [
    {
     "data": {
      "text/plain": [
       "RKZ-PerepelStart     False\n",
       "RKZ-PerepelFinish    False\n",
       "RKZ-KuriStart        False\n",
       "RKZ-Kuri             False\n",
       "RKZ-Utki              True\n",
       "dtype: bool"
      ]
     },
     "execution_count": 6,
     "metadata": {},
     "output_type": "execute_result"
    }
   ],
   "source": [
    "price_combi.isnull()"
   ]
  },
  {
   "cell_type": "markdown",
   "id": "4ed28a39",
   "metadata": {},
   "source": [
    "#### Замена на булевые значения. True - НЕ нулевое значение"
   ]
  },
  {
   "cell_type": "code",
   "execution_count": 7,
   "id": "2831f47e",
   "metadata": {},
   "outputs": [
    {
     "data": {
      "text/plain": [
       "RKZ-PerepelStart      True\n",
       "RKZ-PerepelFinish     True\n",
       "RKZ-KuriStart         True\n",
       "RKZ-Kuri              True\n",
       "RKZ-Utki             False\n",
       "dtype: bool"
      ]
     },
     "execution_count": 7,
     "metadata": {},
     "output_type": "execute_result"
    }
   ],
   "source": [
    "price_combi.notnull()"
   ]
  },
  {
   "cell_type": "markdown",
   "id": "e3197524",
   "metadata": {},
   "source": [
    "#### Замена на булевые значения по условию"
   ]
  },
  {
   "cell_type": "code",
   "execution_count": 9,
   "id": "33ef5d8c",
   "metadata": {},
   "outputs": [
    {
     "data": {
      "text/plain": [
       "RKZ-PerepelStart      True\n",
       "RKZ-PerepelFinish    False\n",
       "RKZ-KuriStart         True\n",
       "RKZ-Kuri             False\n",
       "RKZ-Utki             False\n",
       "dtype: bool"
      ]
     },
     "execution_count": 9,
     "metadata": {},
     "output_type": "execute_result"
    }
   ],
   "source": [
    "price_combi > 35"
   ]
  },
  {
   "cell_type": "markdown",
   "id": "95951427",
   "metadata": {},
   "source": [
    "#### Выборка по фильтру"
   ]
  },
  {
   "cell_type": "code",
   "execution_count": 10,
   "id": "7b14a17f",
   "metadata": {},
   "outputs": [
    {
     "data": {
      "text/plain": [
       "RKZ-PerepelStart     45.0\n",
       "RKZ-PerepelFinish    35.0\n",
       "RKZ-KuriStart        38.0\n",
       "RKZ-Kuri             33.0\n",
       "dtype: float64"
      ]
     },
     "execution_count": 10,
     "metadata": {},
     "output_type": "execute_result"
    }
   ],
   "source": [
    "price_combi[price_combi.notnull()]"
   ]
  },
  {
   "cell_type": "code",
   "execution_count": 11,
   "id": "63e36b43",
   "metadata": {},
   "outputs": [
    {
     "data": {
      "text/plain": [
       "RKZ-PerepelFinish    35.0\n",
       "RKZ-KuriStart        38.0\n",
       "RKZ-Kuri             33.0\n",
       "dtype: float64"
      ]
     },
     "execution_count": 11,
     "metadata": {},
     "output_type": "execute_result"
    }
   ],
   "source": [
    "price_combi[price_combi < 40]"
   ]
  },
  {
   "cell_type": "code",
   "execution_count": 13,
   "id": "1864dd69",
   "metadata": {},
   "outputs": [
    {
     "data": {
      "text/plain": [
       "RKZ-Utki   NaN\n",
       "dtype: float64"
      ]
     },
     "execution_count": 13,
     "metadata": {},
     "output_type": "execute_result"
    }
   ],
   "source": [
    "price_combi[price_combi.isnull()]"
   ]
  },
  {
   "cell_type": "markdown",
   "id": "c167e0f6",
   "metadata": {},
   "source": [
    "#### И"
   ]
  },
  {
   "cell_type": "code",
   "execution_count": 14,
   "id": "98bbf94b",
   "metadata": {},
   "outputs": [
    {
     "data": {
      "text/plain": [
       "RKZ-PerepelFinish    35.0\n",
       "RKZ-KuriStart        38.0\n",
       "dtype: float64"
      ]
     },
     "execution_count": 14,
     "metadata": {},
     "output_type": "execute_result"
    }
   ],
   "source": [
    "price_combi[(price_combi < 40) & (price_combi > 34)]"
   ]
  },
  {
   "cell_type": "markdown",
   "id": "a1291410",
   "metadata": {},
   "source": [
    "#### Или"
   ]
  },
  {
   "cell_type": "code",
   "execution_count": 19,
   "id": "7141a739",
   "metadata": {},
   "outputs": [
    {
     "data": {
      "text/plain": [
       "RKZ-PerepelStart    45.0\n",
       "RKZ-Kuri            33.0\n",
       "dtype: float64"
      ]
     },
     "execution_count": 19,
     "metadata": {},
     "output_type": "execute_result"
    }
   ],
   "source": [
    "price_combi[(price_combi == 33) | (price_combi > 38)]"
   ]
  },
  {
   "cell_type": "markdown",
   "id": "48596e7f",
   "metadata": {},
   "source": [
    "#### Инвертирование"
   ]
  },
  {
   "cell_type": "code",
   "execution_count": 23,
   "id": "9934b5dd",
   "metadata": {},
   "outputs": [
    {
     "data": {
      "text/plain": [
       "RKZ-PerepelFinish    35.0\n",
       "RKZ-KuriStart        38.0\n",
       "RKZ-Kuri             33.0\n",
       "dtype: float64"
      ]
     },
     "execution_count": 23,
     "metadata": {},
     "output_type": "execute_result"
    }
   ],
   "source": [
    "price_combi[~(price_combi > 40) & (price_combi.notnull())]"
   ]
  },
  {
   "cell_type": "markdown",
   "id": "b88baa60",
   "metadata": {},
   "source": [
    "#### Ключ значение в цикле"
   ]
  },
  {
   "cell_type": "code",
   "execution_count": 25,
   "id": "ab57328c",
   "metadata": {},
   "outputs": [
    {
     "name": "stdout",
     "output_type": "stream",
     "text": [
      "RKZ-PerepelStart  -  45.0\n",
      "RKZ-PerepelFinish  -  35.0\n",
      "RKZ-KuriStart  -  38.0\n",
      "RKZ-Kuri  -  33.0\n",
      "RKZ-Utki  -  nan\n"
     ]
    }
   ],
   "source": [
    "for i, v in price_combi.items():\n",
    "    print(i, \" - \", v)"
   ]
  },
  {
   "cell_type": "code",
   "execution_count": null,
   "id": "b0b22267",
   "metadata": {},
   "outputs": [],
   "source": []
  }
 ],
 "metadata": {
  "kernelspec": {
   "display_name": "Python 3 (ipykernel)",
   "language": "python",
   "name": "python3"
  },
  "language_info": {
   "codemirror_mode": {
    "name": "ipython",
    "version": 3
   },
   "file_extension": ".py",
   "mimetype": "text/x-python",
   "name": "python",
   "nbconvert_exporter": "python",
   "pygments_lexer": "ipython3",
   "version": "3.10.0"
  }
 },
 "nbformat": 4,
 "nbformat_minor": 5
}
