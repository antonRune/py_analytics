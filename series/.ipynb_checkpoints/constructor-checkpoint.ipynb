{
 "cells": [
  {
   "cell_type": "markdown",
   "id": "6307f24a",
   "metadata": {},
   "source": [
    "# Series"
   ]
  },
  {
   "cell_type": "markdown",
   "id": "715e3d74",
   "metadata": {},
   "source": [
    "Серию можно представить как один столбец таблицы"
   ]
  },
  {
   "cell_type": "markdown",
   "id": "1ed7d462",
   "metadata": {},
   "source": [
    "Дата фрейм - это и есть таблица"
   ]
  },
  {
   "cell_type": "code",
   "execution_count": 1,
   "id": "fd793165",
   "metadata": {},
   "outputs": [],
   "source": [
    "import pandas as pd"
   ]
  },
  {
   "cell_type": "code",
   "execution_count": 2,
   "id": "327b70af",
   "metadata": {},
   "outputs": [
    {
     "data": {
      "text/plain": [
       "'1.3.4'"
      ]
     },
     "execution_count": 2,
     "metadata": {},
     "output_type": "execute_result"
    }
   ],
   "source": [
    "pd.__version__"
   ]
  },
  {
   "cell_type": "markdown",
   "id": "d2df916c",
   "metadata": {},
   "source": [
    "Серию можно создать при помощи конструктора Series"
   ]
  },
  {
   "cell_type": "code",
   "execution_count": 5,
   "id": "c55d9368",
   "metadata": {},
   "outputs": [
    {
     "name": "stdout",
     "output_type": "stream",
     "text": [
      "0     Курица\n",
      "1    Перепел\n",
      "2      Индюк\n",
      "3    Цицарка\n",
      "dtype: object\n"
     ]
    }
   ],
   "source": [
    "s1 = pd.Series(['Курица', 'Перепел', 'Индюк', 'Цицарка'])\n",
    "print(s1)"
   ]
  },
  {
   "cell_type": "markdown",
   "id": "29680ef4",
   "metadata": {},
   "source": [
    "Серия должна иметь один тип данных"
   ]
  },
  {
   "cell_type": "code",
   "execution_count": 6,
   "id": "ed0df641",
   "metadata": {},
   "outputs": [
    {
     "name": "stdout",
     "output_type": "stream",
     "text": [
      "0    1\n",
      "1    2\n",
      "2    6\n",
      "3    0\n",
      "dtype: int64\n"
     ]
    }
   ],
   "source": [
    "s2 = pd.Series([1, 2, 6, 0])\n",
    "print(s2)"
   ]
  },
  {
   "cell_type": "code",
   "execution_count": null,
   "id": "648286b1",
   "metadata": {},
   "outputs": [],
   "source": []
  }
 ],
 "metadata": {
  "kernelspec": {
   "display_name": "Python 3 (ipykernel)",
   "language": "python",
   "name": "python3"
  },
  "language_info": {
   "codemirror_mode": {
    "name": "ipython",
    "version": 3
   },
   "file_extension": ".py",
   "mimetype": "text/x-python",
   "name": "python",
   "nbconvert_exporter": "python",
   "pygments_lexer": "ipython3",
   "version": "3.9.7"
  }
 },
 "nbformat": 4,
 "nbformat_minor": 5
}
