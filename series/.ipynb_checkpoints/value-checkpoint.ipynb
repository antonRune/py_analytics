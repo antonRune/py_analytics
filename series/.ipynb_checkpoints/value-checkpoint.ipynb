{
 "cells": [
  {
   "cell_type": "markdown",
   "id": "479e6f83",
   "metadata": {},
   "source": [
    "# Серии. Значения"
   ]
  },
  {
   "cell_type": "code",
   "execution_count": 1,
   "id": "356403c3",
   "metadata": {},
   "outputs": [],
   "source": [
    "import pandas as pd"
   ]
  },
  {
   "cell_type": "code",
   "execution_count": 3,
   "id": "1237e991",
   "metadata": {},
   "outputs": [
    {
     "name": "stdout",
     "output_type": "stream",
     "text": [
      "Утки          50\n",
      "Перепела     200\n",
      "Куры        1000\n",
      "Индюки        20\n",
      "dtype: int64\n"
     ]
    }
   ],
   "source": [
    "ds1 = pd.Series(data=[50, 200, 1000, 20], index=[\"Утки\", \"Перепела\", \"Куры\", \"Индюки\"])\n",
    "print(ds1)"
   ]
  },
  {
   "cell_type": "code",
   "execution_count": 5,
   "id": "dbf52c29",
   "metadata": {},
   "outputs": [
    {
     "name": "stdout",
     "output_type": "stream",
     "text": [
      "0      50\n",
      "1     200\n",
      "2    1000\n",
      "3      20\n",
      "dtype: int64\n"
     ]
    }
   ],
   "source": [
    "ds2 = pd.Series([50, 200, 1000, 20])\n",
    "print(ds2)"
   ]
  },
  {
   "cell_type": "markdown",
   "id": "daa1e2b1",
   "metadata": {},
   "source": [
    "#### Вывод данных по ключу словаря"
   ]
  },
  {
   "cell_type": "code",
   "execution_count": 6,
   "id": "2dbef828",
   "metadata": {},
   "outputs": [
    {
     "name": "stdout",
     "output_type": "stream",
     "text": [
      "50 1000\n"
     ]
    }
   ],
   "source": [
    "print(ds1[\"Утки\"], ds2[2])"
   ]
  },
  {
   "cell_type": "markdown",
   "id": "ed8c1d0e",
   "metadata": {},
   "source": [
    "#### Вывод данных по атрибуту класса"
   ]
  },
  {
   "cell_type": "code",
   "execution_count": 9,
   "id": "80776475",
   "metadata": {},
   "outputs": [
    {
     "name": "stdout",
     "output_type": "stream",
     "text": [
      "1000 20\n"
     ]
    }
   ],
   "source": [
    "print(ds1.Куры, ds1.Индюки)"
   ]
  },
  {
   "cell_type": "markdown",
   "id": "32ee26b1",
   "metadata": {},
   "source": [
    "```\n",
    "Note: Числовой индекс доступен всегда\n",
    "```"
   ]
  },
  {
   "cell_type": "code",
   "execution_count": 10,
   "id": "f312b85e",
   "metadata": {},
   "outputs": [
    {
     "name": "stdout",
     "output_type": "stream",
     "text": [
      "1000 1000\n"
     ]
    }
   ],
   "source": [
    "print(ds1[2], ds2[2])"
   ]
  },
  {
   "cell_type": "markdown",
   "id": "a26a3d96",
   "metadata": {},
   "source": [
    "#### Вывод данных списком ключей"
   ]
  },
  {
   "cell_type": "code",
   "execution_count": 11,
   "id": "95982441",
   "metadata": {},
   "outputs": [
    {
     "name": "stdout",
     "output_type": "stream",
     "text": [
      "Куры        1000\n",
      "Перепела     200\n",
      "dtype: int64\n"
     ]
    }
   ],
   "source": [
    "print(ds1[[\"Куры\", \"Перепела\"]])"
   ]
  },
  {
   "cell_type": "markdown",
   "id": "587c7421",
   "metadata": {},
   "source": [
    "#### Изменение значений по индексу"
   ]
  },
  {
   "cell_type": "code",
   "execution_count": 12,
   "id": "505df30f",
   "metadata": {},
   "outputs": [
    {
     "name": "stdout",
     "output_type": "stream",
     "text": [
      "1200 1200\n"
     ]
    }
   ],
   "source": [
    "ds1[\"Куры\"] = 1200\n",
    "ds2[2] = 1200\n",
    "print(ds1.Куры, ds2[2])"
   ]
  },
  {
   "cell_type": "markdown",
   "id": "2f710ef3",
   "metadata": {},
   "source": [
    "#### Добавление значения"
   ]
  },
  {
   "cell_type": "code",
   "execution_count": 14,
   "id": "51dde00b",
   "metadata": {},
   "outputs": [
    {
     "name": "stdout",
     "output_type": "stream",
     "text": [
      "Утки          50\n",
      "Перепела     200\n",
      "Куры        1200\n",
      "Индюки        20\n",
      "Цицарки        5\n",
      "dtype: int64\n",
      "0      50\n",
      "1     200\n",
      "2    1200\n",
      "3      20\n",
      "4       5\n",
      "dtype: int64\n"
     ]
    }
   ],
   "source": [
    "ds1[\"Цицарки\"] = 5\n",
    "ds2[4] = 5\n",
    "print(ds1)\n",
    "print(ds2)"
   ]
  },
  {
   "cell_type": "code",
   "execution_count": 15,
   "id": "2a254b20",
   "metadata": {},
   "outputs": [
    {
     "name": "stdout",
     "output_type": "stream",
     "text": [
      "3 3\n"
     ]
    }
   ],
   "source": [
    "ds1.at[\"Фазаны\"] = 3\n",
    "ds2.at[5] = 3\n",
    "print(ds1.Фазаны, ds2[5])"
   ]
  },
  {
   "cell_type": "markdown",
   "id": "d1301c74",
   "metadata": {},
   "source": [
    "#### Множественное присваивание"
   ]
  },
  {
   "cell_type": "code",
   "execution_count": 25,
   "id": "f5cb8b2a",
   "metadata": {},
   "outputs": [
    {
     "name": "stdout",
     "output_type": "stream",
     "text": [
      "Утки          60\n",
      "Перепела     220\n",
      "Куры        1200\n",
      "Индюки        20\n",
      "Цицарки        8\n",
      "Фазаны         4\n",
      "dtype: int64\n"
     ]
    }
   ],
   "source": [
    "ds1[\"Утки\", \"Перепела\", \"Цицарки\", \"Фазаны\"] = (60, 220, 8, 4)\n",
    "print(ds1)"
   ]
  },
  {
   "cell_type": "markdown",
   "id": "0c0169e0",
   "metadata": {},
   "source": [
    "### Действия с сериями"
   ]
  },
  {
   "cell_type": "markdown",
   "id": "f44d3aed",
   "metadata": {},
   "source": [
    "```NOTE\n",
    "Все действия с сериями производятся поэлементно\n",
    "```"
   ]
  },
  {
   "cell_type": "code",
   "execution_count": 31,
   "id": "33f731e9",
   "metadata": {},
   "outputs": [
    {
     "name": "stdout",
     "output_type": "stream",
     "text": [
      "Утки         30.0\n",
      "Перепела    110.0\n",
      "Куры        600.0\n",
      "Индюки       10.0\n",
      "Цицарки       4.0\n",
      "Фазаны        2.0\n",
      "dtype: float64\n"
     ]
    }
   ],
   "source": [
    "a = ds1 / 2\n",
    "print(a)"
   ]
  },
  {
   "cell_type": "code",
   "execution_count": 36,
   "id": "ccb02acd",
   "metadata": {},
   "outputs": [
    {
     "name": "stdout",
     "output_type": "stream",
     "text": [
      "Plants        50000\n",
      "Animals       15000\n",
      "Mushrooms      5000\n",
      "Soil         100000\n",
      "dtype: int64\n",
      "Plants       50000\n",
      "Animals      15000\n",
      "Mushrooms     5000\n",
      "dtype: int64\n"
     ]
    }
   ],
   "source": [
    "products = pd.Series({\"Plants\": 50000, \"Animals\": 15000, \"Mushrooms\": 5000, \"Soil\": 100000})\n",
    "products2 = pd.Series({\"Plants\": 50000, \"Animals\": 15000, \"Mushrooms\": 5000})\n",
    "print(products)\n",
    "print(products2)"
   ]
  },
  {
   "cell_type": "markdown",
   "id": "fe8aff61",
   "metadata": {},
   "source": [
    "#### Сложение серий (метод add)"
   ]
  },
  {
   "cell_type": "code",
   "execution_count": 37,
   "id": "51ada242",
   "metadata": {},
   "outputs": [
    {
     "data": {
      "text/plain": [
       "Animals       30000.0\n",
       "Mushrooms     10000.0\n",
       "Plants       100000.0\n",
       "Soil         100000.0\n",
       "dtype: float64"
      ]
     },
     "execution_count": 37,
     "metadata": {},
     "output_type": "execute_result"
    }
   ],
   "source": [
    "products2.add(products, fill_value=0)"
   ]
  },
  {
   "cell_type": "code",
   "execution_count": null,
   "id": "84be80a2",
   "metadata": {},
   "outputs": [],
   "source": []
  }
 ],
 "metadata": {
  "kernelspec": {
   "display_name": "Python 3 (ipykernel)",
   "language": "python",
   "name": "python3"
  },
  "language_info": {
   "codemirror_mode": {
    "name": "ipython",
    "version": 3
   },
   "file_extension": ".py",
   "mimetype": "text/x-python",
   "name": "python",
   "nbconvert_exporter": "python",
   "pygments_lexer": "ipython3",
   "version": "3.10.0"
  }
 },
 "nbformat": 4,
 "nbformat_minor": 5
}
