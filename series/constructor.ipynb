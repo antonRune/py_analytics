{
 "cells": [
  {
   "cell_type": "markdown",
   "id": "8e742d20",
   "metadata": {},
   "source": [
    "# Series"
   ]
  },
  {
   "cell_type": "markdown",
   "id": "8c3eea4d",
   "metadata": {},
   "source": [
    "Серию можно представить как один столбец таблицы"
   ]
  },
  {
   "cell_type": "markdown",
   "id": "d833d391",
   "metadata": {},
   "source": [
    "Дата фрейм - это и есть таблица"
   ]
  },
  {
   "cell_type": "code",
   "execution_count": 1,
   "id": "ccc3cb2a",
   "metadata": {},
   "outputs": [],
   "source": [
    "import pandas as pd"
   ]
  },
  {
   "cell_type": "code",
   "execution_count": 2,
   "id": "7030fe52",
   "metadata": {},
   "outputs": [
    {
     "data": {
      "text/plain": [
       "'1.3.4'"
      ]
     },
     "execution_count": 2,
     "metadata": {},
     "output_type": "execute_result"
    }
   ],
   "source": [
    "pd.__version__"
   ]
  },
  {
   "cell_type": "markdown",
   "id": "e6a21252",
   "metadata": {},
   "source": [
    "Серию можно создать при помощи конструктора Series"
   ]
  },
  {
   "cell_type": "code",
   "execution_count": 5,
   "id": "5604c86e",
   "metadata": {},
   "outputs": [
    {
     "name": "stdout",
     "output_type": "stream",
     "text": [
      "0     Курица\n",
      "1    Перепел\n",
      "2      Индюк\n",
      "3    Цицарка\n",
      "dtype: object\n"
     ]
    }
   ],
   "source": [
    "s1 = pd.Series(['Курица', 'Перепел', 'Индюк', 'Цицарка'])\n",
    "print(s1)"
   ]
  },
  {
   "cell_type": "markdown",
   "id": "1285e3d7",
   "metadata": {},
   "source": [
    "Серия должна иметь один тип данных"
   ]
  },
  {
   "cell_type": "code",
   "execution_count": 6,
   "id": "596ab75c",
   "metadata": {},
   "outputs": [
    {
     "name": "stdout",
     "output_type": "stream",
     "text": [
      "0    1\n",
      "1    2\n",
      "2    6\n",
      "3    0\n",
      "dtype: int64\n"
     ]
    }
   ],
   "source": [
    "s2 = pd.Series([1, 2, 6, 0])\n",
    "print(s2)"
   ]
  },
  {
   "cell_type": "code",
   "execution_count": 8,
   "id": "64c540a1",
   "metadata": {},
   "outputs": [
    {
     "name": "stdout",
     "output_type": "stream",
     "text": [
      "0     3.4\n",
      "1     5.6\n",
      "2     9.4\n",
      "3    23.4\n",
      "dtype: float64\n"
     ]
    }
   ],
   "source": [
    "l1 = [3.4, 5.6, 9.4, 23.4]\n",
    "s3 = pd.Series(l1)\n",
    "print(s3)"
   ]
  },
  {
   "cell_type": "code",
   "execution_count": 10,
   "id": "ab02e5e3",
   "metadata": {},
   "outputs": [
    {
     "name": "stdout",
     "output_type": "stream",
     "text": [
      "0     True\n",
      "1    False\n",
      "2     True\n",
      "3     True\n",
      "dtype: bool\n"
     ]
    }
   ],
   "source": [
    "b1 = [True, False, True, True]\n",
    "s4 = pd.Series(b1)\n",
    "print(s4)"
   ]
  },
  {
   "cell_type": "markdown",
   "id": "e122ebc7",
   "metadata": {},
   "source": [
    "#### Значения серии. Возвращается массив numpy"
   ]
  },
  {
   "cell_type": "code",
   "execution_count": 11,
   "id": "8ddda770",
   "metadata": {},
   "outputs": [
    {
     "data": {
      "text/plain": [
       "array(['Курица', 'Перепел', 'Индюк', 'Цицарка'], dtype=object)"
      ]
     },
     "execution_count": 11,
     "metadata": {},
     "output_type": "execute_result"
    }
   ],
   "source": [
    "s1.values"
   ]
  },
  {
   "cell_type": "markdown",
   "id": "353235f8",
   "metadata": {},
   "source": [
    "#### Индексы серии"
   ]
  },
  {
   "cell_type": "code",
   "execution_count": 12,
   "id": "9615c381",
   "metadata": {},
   "outputs": [
    {
     "data": {
      "text/plain": [
       "RangeIndex(start=0, stop=4, step=1)"
      ]
     },
     "execution_count": 12,
     "metadata": {},
     "output_type": "execute_result"
    }
   ],
   "source": [
    "s2.index"
   ]
  },
  {
   "cell_type": "markdown",
   "id": "1224db40",
   "metadata": {},
   "source": [
    "#### Индексация серии"
   ]
  },
  {
   "cell_type": "code",
   "execution_count": 14,
   "id": "0b9feecb",
   "metadata": {},
   "outputs": [
    {
     "name": "stdout",
     "output_type": "stream",
     "text": [
      "q     3.4\n",
      "w     5.6\n",
      "e     9.4\n",
      "r    23.4\n",
      "dtype: float64\n"
     ]
    }
   ],
   "source": [
    "is1 = pd.Series(data=l1, index=('q', 'w', 'e', 'r'))\n",
    "print(is1)"
   ]
  },
  {
   "cell_type": "markdown",
   "id": "9f255111",
   "metadata": {},
   "source": [
    "#### Индексация словарем"
   ]
  },
  {
   "cell_type": "code",
   "execution_count": 18,
   "id": "f6ff4958",
   "metadata": {},
   "outputs": [
    {
     "name": "stdout",
     "output_type": "stream",
     "text": [
      "1    Joseph\n",
      "2      Mark\n",
      "3      Luck\n",
      "dtype: object\n"
     ]
    }
   ],
   "source": [
    "d = {1: \"Joseph\", \n",
    "    2: \"Mark\",\n",
    "    3: \"Luck\"}\n",
    "is2 = pd.Series(d)\n",
    "print(is2)"
   ]
  }
 ],
 "metadata": {
  "kernelspec": {
   "display_name": "Python 3 (ipykernel)",
   "language": "python",
   "name": "python3"
  },
  "language_info": {
   "codemirror_mode": {
    "name": "ipython",
    "version": 3
   },
   "file_extension": ".py",
   "mimetype": "text/x-python",
   "name": "python",
   "nbconvert_exporter": "python",
   "pygments_lexer": "ipython3",
   "version": "3.9.7"
  }
 },
 "nbformat": 4,
 "nbformat_minor": 5
}
