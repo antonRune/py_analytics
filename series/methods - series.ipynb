{
 "cells": [
  {
   "cell_type": "markdown",
   "id": "4c95e9e7",
   "metadata": {},
   "source": [
    "# Методы серий"
   ]
  },
  {
   "cell_type": "code",
   "execution_count": 1,
   "id": "1ce5d4a7",
   "metadata": {},
   "outputs": [],
   "source": [
    "import pandas as pd"
   ]
  },
  {
   "cell_type": "code",
   "execution_count": 34,
   "id": "d71bcaff",
   "metadata": {},
   "outputs": [],
   "source": [
    "korm = pd.Series([\"RKZ-PerepelStart\", \"RKZ-PerepelFinish\", \"RKZ-KuriStart\", \"RKZ-Kuri\", \"RKZ-Utki\"])"
   ]
  },
  {
   "cell_type": "code",
   "execution_count": 2,
   "id": "bf105bc8",
   "metadata": {},
   "outputs": [
    {
     "name": "stdout",
     "output_type": "stream",
     "text": [
      "RKZ-PerepelStart     45.0\n",
      "RKZ-PerepelFinish    35.0\n",
      "RKZ-KuriStart        38.0\n",
      "RKZ-Kuri             33.0\n",
      "RKZ-Utki              NaN\n",
      "dtype: float64\n"
     ]
    }
   ],
   "source": [
    "combi = {\"RKZ-PerepelStart\": 45, \"RKZ-PerepelFinish\": 35, \"RKZ-KuriStart\": 38, \"RKZ-KuriRost\": 34, \"RKZ-Kuri\": 33}\n",
    "price_combi = pd.Series(combi, index=[\"RKZ-PerepelStart\", \"RKZ-PerepelFinish\", \"RKZ-KuriStart\", \"RKZ-Kuri\", \"RKZ-Utki\"])\n",
    "print(price_combi)"
   ]
  },
  {
   "cell_type": "markdown",
   "id": "c2906d4e",
   "metadata": {},
   "source": [
    "#### Длина серии"
   ]
  },
  {
   "cell_type": "code",
   "execution_count": 3,
   "id": "9b0626e0",
   "metadata": {},
   "outputs": [
    {
     "data": {
      "text/plain": [
       "5"
      ]
     },
     "execution_count": 3,
     "metadata": {},
     "output_type": "execute_result"
    }
   ],
   "source": [
    "len(price_combi)"
   ]
  },
  {
   "cell_type": "code",
   "execution_count": 4,
   "id": "d0c9b9ed",
   "metadata": {},
   "outputs": [
    {
     "data": {
      "text/plain": [
       "(5,)"
      ]
     },
     "execution_count": 4,
     "metadata": {},
     "output_type": "execute_result"
    }
   ],
   "source": [
    "price_combi.shape"
   ]
  },
  {
   "cell_type": "code",
   "execution_count": 5,
   "id": "fe6d6d39",
   "metadata": {},
   "outputs": [
    {
     "data": {
      "text/plain": [
       "5"
      ]
     },
     "execution_count": 5,
     "metadata": {},
     "output_type": "execute_result"
    }
   ],
   "source": [
    "price_combi.size"
   ]
  },
  {
   "cell_type": "markdown",
   "id": "d7aa50ba",
   "metadata": {},
   "source": [
    "#### Количество элементов со значениями"
   ]
  },
  {
   "cell_type": "code",
   "execution_count": 6,
   "id": "4b7948e9",
   "metadata": {},
   "outputs": [
    {
     "data": {
      "text/plain": [
       "4"
      ]
     },
     "execution_count": 6,
     "metadata": {},
     "output_type": "execute_result"
    }
   ],
   "source": [
    "price_combi.count()"
   ]
  },
  {
   "cell_type": "markdown",
   "id": "ebbeb1b5",
   "metadata": {},
   "source": [
    "# Агрегация"
   ]
  },
  {
   "cell_type": "markdown",
   "id": "1f18d126",
   "metadata": {},
   "source": [
    "#### Минимальное значение "
   ]
  },
  {
   "cell_type": "code",
   "execution_count": 7,
   "id": "a66ca18c",
   "metadata": {},
   "outputs": [
    {
     "data": {
      "text/plain": [
       "33.0"
      ]
     },
     "execution_count": 7,
     "metadata": {},
     "output_type": "execute_result"
    }
   ],
   "source": [
    "price_combi.agg(\"min\")"
   ]
  },
  {
   "cell_type": "code",
   "execution_count": 8,
   "id": "80ed7357",
   "metadata": {},
   "outputs": [
    {
     "data": {
      "text/plain": [
       "33.0"
      ]
     },
     "execution_count": 8,
     "metadata": {},
     "output_type": "execute_result"
    }
   ],
   "source": [
    "price_combi.min()"
   ]
  },
  {
   "cell_type": "markdown",
   "id": "077b0a3e",
   "metadata": {},
   "source": [
    "#### Максимальное значени"
   ]
  },
  {
   "cell_type": "code",
   "execution_count": 9,
   "id": "7a087444",
   "metadata": {},
   "outputs": [
    {
     "data": {
      "text/plain": [
       "45.0"
      ]
     },
     "execution_count": 9,
     "metadata": {},
     "output_type": "execute_result"
    }
   ],
   "source": [
    "price_combi.aggregate(\"max\")"
   ]
  },
  {
   "cell_type": "code",
   "execution_count": 10,
   "id": "6b9a99aa",
   "metadata": {},
   "outputs": [
    {
     "data": {
      "text/plain": [
       "45.0"
      ]
     },
     "execution_count": 10,
     "metadata": {},
     "output_type": "execute_result"
    }
   ],
   "source": [
    "price_combi.max()"
   ]
  },
  {
   "cell_type": "markdown",
   "id": "7874605e",
   "metadata": {},
   "source": [
    "#### Сумма значений"
   ]
  },
  {
   "cell_type": "code",
   "execution_count": 11,
   "id": "517a737c",
   "metadata": {},
   "outputs": [
    {
     "data": {
      "text/plain": [
       "151.0"
      ]
     },
     "execution_count": 11,
     "metadata": {},
     "output_type": "execute_result"
    }
   ],
   "source": [
    "price_combi.agg(\"sum\")"
   ]
  },
  {
   "cell_type": "code",
   "execution_count": 12,
   "id": "1845d24a",
   "metadata": {},
   "outputs": [
    {
     "data": {
      "text/plain": [
       "151.0"
      ]
     },
     "execution_count": 12,
     "metadata": {},
     "output_type": "execute_result"
    }
   ],
   "source": [
    "price_combi.sum()"
   ]
  },
  {
   "cell_type": "markdown",
   "id": "8a3a3301",
   "metadata": {},
   "source": [
    "#### Среднее значение"
   ]
  },
  {
   "cell_type": "code",
   "execution_count": 13,
   "id": "78a8c1b8",
   "metadata": {},
   "outputs": [
    {
     "data": {
      "text/plain": [
       "37.75"
      ]
     },
     "execution_count": 13,
     "metadata": {},
     "output_type": "execute_result"
    }
   ],
   "source": [
    "price_combi.agg(\"mean\")"
   ]
  },
  {
   "cell_type": "code",
   "execution_count": 14,
   "id": "2632f43e",
   "metadata": {},
   "outputs": [
    {
     "data": {
      "text/plain": [
       "37.75"
      ]
     },
     "execution_count": 14,
     "metadata": {},
     "output_type": "execute_result"
    }
   ],
   "source": [
    "price_combi.mean()"
   ]
  },
  {
   "cell_type": "markdown",
   "id": "e5be9beb",
   "metadata": {},
   "source": [
    "#### Список агригированных данных"
   ]
  },
  {
   "cell_type": "code",
   "execution_count": 15,
   "id": "84a60169",
   "metadata": {},
   "outputs": [
    {
     "data": {
      "text/plain": [
       "max    45.0\n",
       "min    33.0\n",
       "dtype: float64"
      ]
     },
     "execution_count": 15,
     "metadata": {},
     "output_type": "execute_result"
    }
   ],
   "source": [
    "price_combi.agg([\"max\",\"min\"])"
   ]
  },
  {
   "cell_type": "markdown",
   "id": "66c35e81",
   "metadata": {},
   "source": [
    "## Применение функций к элемента серий"
   ]
  },
  {
   "cell_type": "code",
   "execution_count": 16,
   "id": "52d27281",
   "metadata": {},
   "outputs": [],
   "source": [
    "def add_one(n):\n",
    "    n = n+1\n",
    "    return n"
   ]
  },
  {
   "cell_type": "code",
   "execution_count": 17,
   "id": "c76a3a90",
   "metadata": {},
   "outputs": [
    {
     "name": "stdout",
     "output_type": "stream",
     "text": [
      "RKZ-PerepelStart     46.0\n",
      "RKZ-PerepelFinish    36.0\n",
      "RKZ-KuriStart        39.0\n",
      "RKZ-Kuri             34.0\n",
      "RKZ-Utki              NaN\n",
      "dtype: float64\n"
     ]
    }
   ],
   "source": [
    "f = price_combi.apply(add_one)\n",
    "print(f)"
   ]
  },
  {
   "cell_type": "code",
   "execution_count": 43,
   "id": "a7ccac9f",
   "metadata": {},
   "outputs": [
    {
     "data": {
      "text/plain": [
       "0     +++RKZ-PerepelStart+++\n",
       "1    +++RKZ-PerepelFinish+++\n",
       "2              RKZ-KuriStart\n",
       "3                   RKZ-Kuri\n",
       "4                   RKZ-Utki\n",
       "dtype: object"
      ]
     },
     "execution_count": 43,
     "metadata": {},
     "output_type": "execute_result"
    }
   ],
   "source": [
    "p = korm.apply(lambda s: \"+++\" + s + \"+++\" if \"e\" in s else s)\n",
    "p\n"
   ]
  },
  {
   "cell_type": "code",
   "execution_count": 44,
   "id": "77bdbdd8",
   "metadata": {},
   "outputs": [],
   "source": [
    "def sep(x):\n",
    "    if \"a\" in x:\n",
    "        return \"+\".join(x)\n",
    "    else:\n",
    "        return x"
   ]
  },
  {
   "cell_type": "code",
   "execution_count": 46,
   "id": "d74879ae",
   "metadata": {},
   "outputs": [
    {
     "name": "stdout",
     "output_type": "stream",
     "text": [
      "0    R+K+Z+-+P+e+r+e+p+e+l+S+t+a+r+t\n",
      "1                  RKZ-PerepelFinish\n",
      "2          R+K+Z+-+K+u+r+i+S+t+a+r+t\n",
      "3                           RKZ-Kuri\n",
      "4                           RKZ-Utki\n",
      "dtype: object\n"
     ]
    }
   ],
   "source": [
    "k = korm.apply(sep)\n",
    "print(k)"
   ]
  },
  {
   "cell_type": "markdown",
   "id": "aa77d477",
   "metadata": {},
   "source": [
    "#### Выборка элементов по содержимому строки"
   ]
  },
  {
   "cell_type": "code",
   "execution_count": 49,
   "id": "fb137fea",
   "metadata": {},
   "outputs": [
    {
     "name": "stdout",
     "output_type": "stream",
     "text": [
      "[0    False\n",
      "1    False\n",
      "2     True\n",
      "3     True\n",
      "4    False\n",
      "dtype: bool]\n"
     ]
    }
   ],
   "source": [
    "korm[korm.str.contains(\"Kuri\")]\n",
    "print(k)"
   ]
  },
  {
   "cell_type": "code",
   "execution_count": null,
   "id": "f693d0c2",
   "metadata": {},
   "outputs": [],
   "source": []
  }
 ],
 "metadata": {
  "kernelspec": {
   "display_name": "Python 3 (ipykernel)",
   "language": "python",
   "name": "python3"
  },
  "language_info": {
   "codemirror_mode": {
    "name": "ipython",
    "version": 3
   },
   "file_extension": ".py",
   "mimetype": "text/x-python",
   "name": "python",
   "nbconvert_exporter": "python",
   "pygments_lexer": "ipython3",
   "version": "3.10.0"
  }
 },
 "nbformat": 4,
 "nbformat_minor": 5
}
