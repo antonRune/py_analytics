{
 "cells": [
  {
   "cell_type": "markdown",
   "id": "1da0db32",
   "metadata": {},
   "source": [
    "# Магические команды IPython"
   ]
  },
  {
   "cell_type": "markdown",
   "id": "89b8c6fe",
   "metadata": {},
   "source": [
    "Список магических команд можно вызвать магической командой\n",
    "```python\n",
    "%lsmgic\n",
    "```"
   ]
  },
  {
   "cell_type": "code",
   "execution_count": 1,
   "id": "73bdbed8",
   "metadata": {},
   "outputs": [
    {
     "data": {
      "application/json": {
       "cell": {
        "!": "OSMagics",
        "HTML": "Other",
        "SVG": "Other",
        "bash": "Other",
        "capture": "ExecutionMagics",
        "debug": "ExecutionMagics",
        "file": "Other",
        "html": "DisplayMagics",
        "javascript": "DisplayMagics",
        "js": "DisplayMagics",
        "latex": "DisplayMagics",
        "markdown": "DisplayMagics",
        "perl": "Other",
        "prun": "ExecutionMagics",
        "pypy": "Other",
        "python": "Other",
        "python2": "Other",
        "python3": "Other",
        "ruby": "Other",
        "script": "ScriptMagics",
        "sh": "Other",
        "svg": "DisplayMagics",
        "sx": "OSMagics",
        "system": "OSMagics",
        "time": "ExecutionMagics",
        "timeit": "ExecutionMagics",
        "writefile": "OSMagics"
       },
       "line": {
        "alias": "OSMagics",
        "alias_magic": "BasicMagics",
        "autoawait": "AsyncMagics",
        "autocall": "AutoMagics",
        "automagic": "AutoMagics",
        "autosave": "KernelMagics",
        "bookmark": "OSMagics",
        "cat": "Other",
        "cd": "OSMagics",
        "clear": "KernelMagics",
        "colors": "BasicMagics",
        "conda": "PackagingMagics",
        "config": "ConfigMagics",
        "connect_info": "KernelMagics",
        "cp": "Other",
        "debug": "ExecutionMagics",
        "dhist": "OSMagics",
        "dirs": "OSMagics",
        "doctest_mode": "BasicMagics",
        "ed": "Other",
        "edit": "KernelMagics",
        "env": "OSMagics",
        "gui": "BasicMagics",
        "hist": "Other",
        "history": "HistoryMagics",
        "killbgscripts": "ScriptMagics",
        "ldir": "Other",
        "less": "KernelMagics",
        "lf": "Other",
        "lk": "Other",
        "ll": "Other",
        "load": "CodeMagics",
        "load_ext": "ExtensionMagics",
        "loadpy": "CodeMagics",
        "logoff": "LoggingMagics",
        "logon": "LoggingMagics",
        "logstart": "LoggingMagics",
        "logstate": "LoggingMagics",
        "logstop": "LoggingMagics",
        "ls": "Other",
        "lsmagic": "BasicMagics",
        "lx": "Other",
        "macro": "ExecutionMagics",
        "magic": "BasicMagics",
        "man": "KernelMagics",
        "matplotlib": "PylabMagics",
        "mkdir": "Other",
        "more": "KernelMagics",
        "mv": "Other",
        "notebook": "BasicMagics",
        "page": "BasicMagics",
        "pastebin": "CodeMagics",
        "pdb": "ExecutionMagics",
        "pdef": "NamespaceMagics",
        "pdoc": "NamespaceMagics",
        "pfile": "NamespaceMagics",
        "pinfo": "NamespaceMagics",
        "pinfo2": "NamespaceMagics",
        "pip": "PackagingMagics",
        "popd": "OSMagics",
        "pprint": "BasicMagics",
        "precision": "BasicMagics",
        "prun": "ExecutionMagics",
        "psearch": "NamespaceMagics",
        "psource": "NamespaceMagics",
        "pushd": "OSMagics",
        "pwd": "OSMagics",
        "pycat": "OSMagics",
        "pylab": "PylabMagics",
        "qtconsole": "KernelMagics",
        "quickref": "BasicMagics",
        "recall": "HistoryMagics",
        "rehashx": "OSMagics",
        "reload_ext": "ExtensionMagics",
        "rep": "Other",
        "rerun": "HistoryMagics",
        "reset": "NamespaceMagics",
        "reset_selective": "NamespaceMagics",
        "rm": "Other",
        "rmdir": "Other",
        "run": "ExecutionMagics",
        "save": "CodeMagics",
        "sc": "OSMagics",
        "set_env": "OSMagics",
        "store": "StoreMagics",
        "sx": "OSMagics",
        "system": "OSMagics",
        "tb": "ExecutionMagics",
        "time": "ExecutionMagics",
        "timeit": "ExecutionMagics",
        "unalias": "OSMagics",
        "unload_ext": "ExtensionMagics",
        "who": "NamespaceMagics",
        "who_ls": "NamespaceMagics",
        "whos": "NamespaceMagics",
        "xdel": "NamespaceMagics",
        "xmode": "BasicMagics"
       }
      },
      "text/plain": [
       "Available line magics:\n",
       "%alias  %alias_magic  %autoawait  %autocall  %automagic  %autosave  %bookmark  %cat  %cd  %clear  %colors  %conda  %config  %connect_info  %cp  %debug  %dhist  %dirs  %doctest_mode  %ed  %edit  %env  %gui  %hist  %history  %killbgscripts  %ldir  %less  %lf  %lk  %ll  %load  %load_ext  %loadpy  %logoff  %logon  %logstart  %logstate  %logstop  %ls  %lsmagic  %lx  %macro  %magic  %man  %matplotlib  %mkdir  %more  %mv  %notebook  %page  %pastebin  %pdb  %pdef  %pdoc  %pfile  %pinfo  %pinfo2  %pip  %popd  %pprint  %precision  %prun  %psearch  %psource  %pushd  %pwd  %pycat  %pylab  %qtconsole  %quickref  %recall  %rehashx  %reload_ext  %rep  %rerun  %reset  %reset_selective  %rm  %rmdir  %run  %save  %sc  %set_env  %store  %sx  %system  %tb  %time  %timeit  %unalias  %unload_ext  %who  %who_ls  %whos  %xdel  %xmode\n",
       "\n",
       "Available cell magics:\n",
       "%%!  %%HTML  %%SVG  %%bash  %%capture  %%debug  %%file  %%html  %%javascript  %%js  %%latex  %%markdown  %%perl  %%prun  %%pypy  %%python  %%python2  %%python3  %%ruby  %%script  %%sh  %%svg  %%sx  %%system  %%time  %%timeit  %%writefile\n",
       "\n",
       "Automagic is ON, % prefix IS NOT needed for line magics."
      ]
     },
     "execution_count": 1,
     "metadata": {},
     "output_type": "execute_result"
    }
   ],
   "source": [
    "%lsmagic"
   ]
  },
  {
   "cell_type": "markdown",
   "id": "378ea1c6",
   "metadata": {},
   "source": [
    "Строчные команды вызываются символом `%`, блочные - `%%`"
   ]
  },
  {
   "cell_type": "markdown",
   "id": "5afba4d1",
   "metadata": {},
   "source": [
    "`%page` - вывести информацию в пейджере"
   ]
  },
  {
   "cell_type": "code",
   "execution_count": 6,
   "id": "e4683ebd",
   "metadata": {},
   "outputs": [],
   "source": [
    "d = {'Триходерма': 'Грибы',\n",
    "    'Дуб': 'Растения',\n",
    "    'Волк': 'Животные'}"
   ]
  },
  {
   "cell_type": "code",
   "execution_count": 8,
   "id": "79e3c8a0",
   "metadata": {},
   "outputs": [],
   "source": [
    "%page d"
   ]
  },
  {
   "cell_type": "markdown",
   "id": "f13c8022",
   "metadata": {},
   "source": [
    "`%pinfo` - информация об объекте"
   ]
  },
  {
   "cell_type": "code",
   "execution_count": 9,
   "id": "29d9b317",
   "metadata": {},
   "outputs": [],
   "source": [
    "%pinfo d"
   ]
  },
  {
   "cell_type": "markdown",
   "id": "ee1ac033",
   "metadata": {},
   "source": [
    "`%who` - список имен переменных"
   ]
  },
  {
   "cell_type": "code",
   "execution_count": 12,
   "id": "5e0770d2",
   "metadata": {},
   "outputs": [],
   "source": [
    "one = 1; two = 2; three = 3; lupa = 'Lupa'; pupa = 'Pupa'"
   ]
  },
  {
   "cell_type": "code",
   "execution_count": 13,
   "id": "d834aea2",
   "metadata": {},
   "outputs": [
    {
     "name": "stdout",
     "output_type": "stream",
     "text": [
      "d\t lupa\t one\t pupa\t three\t two\t \n"
     ]
    }
   ],
   "source": [
    "%who"
   ]
  },
  {
   "cell_type": "markdown",
   "id": "2706d77e",
   "metadata": {},
   "source": [
    "`%who_ls` - список имен переменных"
   ]
  },
  {
   "cell_type": "code",
   "execution_count": 14,
   "id": "215f05f1",
   "metadata": {},
   "outputs": [
    {
     "data": {
      "text/plain": [
       "['d', 'lupa', 'one', 'pupa', 'three', 'two']"
      ]
     },
     "execution_count": 14,
     "metadata": {},
     "output_type": "execute_result"
    }
   ],
   "source": [
    "%who_ls"
   ]
  },
  {
   "cell_type": "code",
   "execution_count": 15,
   "id": "53f5d733",
   "metadata": {},
   "outputs": [
    {
     "name": "stdout",
     "output_type": "stream",
     "text": [
      "['d', 'lupa', 'one', 'pupa', 'three', 'two']\n"
     ]
    }
   ],
   "source": [
    "a = %who_ls\n",
    "print(a)"
   ]
  },
  {
   "cell_type": "markdown",
   "id": "d14283bb",
   "metadata": {},
   "source": [
    "`%whos` - развернутая информация об объектах в памяти"
   ]
  },
  {
   "cell_type": "code",
   "execution_count": 16,
   "id": "e883bfb9",
   "metadata": {},
   "outputs": [
    {
     "name": "stdout",
     "output_type": "stream",
     "text": [
      "Variable   Type    Data/Info\n",
      "----------------------------\n",
      "a          list    n=6\n",
      "d          dict    n=3\n",
      "lupa       str     Lupa\n",
      "one        int     1\n",
      "pupa       str     Pupa\n",
      "three      int     3\n",
      "two        int     2\n"
     ]
    }
   ],
   "source": [
    "%whos"
   ]
  },
  {
   "cell_type": "markdown",
   "id": "9fb2fbe8",
   "metadata": {},
   "source": [
    "`%reset_selective` - выборочное удаление объектов из памяти"
   ]
  },
  {
   "cell_type": "code",
   "execution_count": 17,
   "id": "08112633",
   "metadata": {},
   "outputs": [
    {
     "name": "stdout",
     "output_type": "stream",
     "text": [
      "Once deleted, variables cannot be recovered. Proceed (y/[n])?  y\n"
     ]
    }
   ],
   "source": [
    "%reset_selective one"
   ]
  },
  {
   "cell_type": "code",
   "execution_count": 18,
   "id": "dc2ce44c",
   "metadata": {},
   "outputs": [
    {
     "name": "stdout",
     "output_type": "stream",
     "text": [
      "Variable   Type    Data/Info\n",
      "----------------------------\n",
      "a          list    n=6\n",
      "d          dict    n=3\n",
      "lupa       str     Lupa\n",
      "pupa       str     Pupa\n",
      "three      int     3\n",
      "two        int     2\n"
     ]
    }
   ],
   "source": [
    "%whos"
   ]
  },
  {
   "cell_type": "markdown",
   "id": "c741d320",
   "metadata": {},
   "source": [
    "`%reset_selective -f` - выборочное удаление объектов из памяти без подтверждения"
   ]
  },
  {
   "cell_type": "code",
   "execution_count": 19,
   "id": "eab07fe9",
   "metadata": {},
   "outputs": [],
   "source": [
    "%reset_selective -f pupa"
   ]
  },
  {
   "cell_type": "code",
   "execution_count": 20,
   "id": "10461543",
   "metadata": {},
   "outputs": [
    {
     "name": "stdout",
     "output_type": "stream",
     "text": [
      "Variable   Type    Data/Info\n",
      "----------------------------\n",
      "a          list    n=6\n",
      "d          dict    n=3\n",
      "lupa       str     Lupa\n",
      "three      int     3\n",
      "two        int     2\n"
     ]
    }
   ],
   "source": [
    "%whos"
   ]
  },
  {
   "cell_type": "markdown",
   "id": "49bdeb63",
   "metadata": {},
   "source": [
    "`%reset` - очистить все память (`-f` - безподтверждения)"
   ]
  },
  {
   "cell_type": "code",
   "execution_count": 21,
   "id": "d4d92bb6",
   "metadata": {},
   "outputs": [
    {
     "name": "stdout",
     "output_type": "stream",
     "text": [
      "Once deleted, variables cannot be recovered. Proceed (y/[n])? y\n"
     ]
    }
   ],
   "source": [
    "%reset"
   ]
  },
  {
   "cell_type": "code",
   "execution_count": 22,
   "id": "b974370b",
   "metadata": {},
   "outputs": [
    {
     "name": "stdout",
     "output_type": "stream",
     "text": [
      "Interactive namespace is empty.\n"
     ]
    }
   ],
   "source": [
    "%who"
   ]
  },
  {
   "cell_type": "markdown",
   "id": "51262121",
   "metadata": {},
   "source": [
    "`%time` и `%%time` - время выполнения кода"
   ]
  },
  {
   "cell_type": "code",
   "execution_count": 2,
   "id": "264f2035",
   "metadata": {},
   "outputs": [
    {
     "name": "stdout",
     "output_type": "stream",
     "text": [
      "CPU times: user 2.5 ms, sys: 0 ns, total: 2.5 ms\n",
      "Wall time: 2.51 ms\n"
     ]
    }
   ],
   "source": [
    "%%time\n",
    "for i in range(100000):\n",
    "    pass"
   ]
  },
  {
   "cell_type": "markdown",
   "id": "448fffa4",
   "metadata": {},
   "source": [
    "`%timeit` и `%%timeit` - среднее время выполнения кода"
   ]
  },
  {
   "cell_type": "code",
   "execution_count": 4,
   "id": "51d8b5b6",
   "metadata": {},
   "outputs": [
    {
     "name": "stdout",
     "output_type": "stream",
     "text": [
      "1.11 ms ± 71.3 µs per loop (mean ± std. dev. of 7 runs, 1000 loops each)\n"
     ]
    }
   ],
   "source": [
    "%%timeit\n",
    "\n",
    "for i in range(100000):\n",
    "    pass"
   ]
  },
  {
   "cell_type": "code",
   "execution_count": null,
   "id": "d9ad16a4",
   "metadata": {},
   "outputs": [],
   "source": []
  }
 ],
 "metadata": {
  "kernelspec": {
   "display_name": "Python 3 (ipykernel)",
   "language": "python",
   "name": "python3"
  },
  "language_info": {
   "codemirror_mode": {
    "name": "ipython",
    "version": 3
   },
   "file_extension": ".py",
   "mimetype": "text/x-python",
   "name": "python",
   "nbconvert_exporter": "python",
   "pygments_lexer": "ipython3",
   "version": "3.9.7"
  }
 },
 "nbformat": 4,
 "nbformat_minor": 5
}
