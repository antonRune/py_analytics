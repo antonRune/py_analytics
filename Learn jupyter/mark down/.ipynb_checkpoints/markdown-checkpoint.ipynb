{
 "cells": [
  {
   "cell_type": "markdown",
   "id": "e11cad78",
   "metadata": {},
   "source": [
    "# Markdown"
   ]
  },
  {
   "cell_type": "markdown",
   "id": "3deb9f6e",
   "metadata": {},
   "source": [
    "Просто текст"
   ]
  },
  {
   "cell_type": "markdown",
   "id": "2ff5272d",
   "metadata": {},
   "source": [
    "Выделяю слово `текст`"
   ]
  },
  {
   "cell_type": "markdown",
   "id": "31a4f967",
   "metadata": {},
   "source": [
    "# Это супер заголовок\n",
    "## Заголовок - подручный\n",
    "### И так далее"
   ]
  },
  {
   "cell_type": "markdown",
   "id": "6527991d",
   "metadata": {},
   "source": [
    "## Списки"
   ]
  },
  {
   "cell_type": "markdown",
   "id": "9e0db402",
   "metadata": {},
   "source": [
    "#### Не нумерованный список\n",
    "* one \n",
    "* two\n",
    "* three"
   ]
  },
  {
   "cell_type": "markdown",
   "id": "70dadb49",
   "metadata": {},
   "source": [
    "#### Не нумерованный список c свложением\n",
    "+ one\n",
    "+ two\n",
    "    + one-two\n",
    "    + two-two\n",
    "+ tree"
   ]
  },
  {
   "cell_type": "markdown",
   "id": "fe8625d2",
   "metadata": {},
   "source": [
    "#### Нумерованный список\n",
    "1. one\n",
    "2. two \n",
    "1. three"
   ]
  },
  {
   "cell_type": "markdown",
   "id": "2ab3845b",
   "metadata": {},
   "source": [
    "#### Нумерованный список c свложением\n",
    "1. one\n",
    "    1. one-one\n",
    "    1. one-two\n",
    "1. two\n",
    "1. three"
   ]
  },
  {
   "cell_type": "markdown",
   "id": "c3440ec7",
   "metadata": {},
   "source": [
    "## Подсветка синтаксиса"
   ]
  },
  {
   "cell_type": "markdown",
   "id": "4554dd48",
   "metadata": {},
   "source": [
    "``` python\n",
    "\n",
    "print('hello world')\n",
    "```"
   ]
  },
  {
   "cell_type": "markdown",
   "id": "80801e3d",
   "metadata": {},
   "source": [
    "## Подведем черту "
   ]
  },
  {
   "cell_type": "markdown",
   "id": "d0957254",
   "metadata": {},
   "source": [
    "---"
   ]
  },
  {
   "cell_type": "markdown",
   "id": "df920f08",
   "metadata": {},
   "source": [
    "Плохо видно, но она там есть :)"
   ]
  },
  {
   "cell_type": "markdown",
   "id": "7c2949f6",
   "metadata": {},
   "source": [
    "## Ссылки"
   ]
  },
  {
   "cell_type": "markdown",
   "id": "6ac0d471",
   "metadata": {},
   "source": [
    "Это же [гугл](https://www.google.ru/ \"Гугол\") "
   ]
  },
  {
   "cell_type": "markdown",
   "id": "a23dda6c",
   "metadata": {},
   "source": [
    "## Изображения"
   ]
  },
  {
   "cell_type": "markdown",
   "id": "7f5748b2",
   "metadata": {},
   "source": [
    "![Юпитер](up.jpeg \"jupiter\")"
   ]
  },
  {
   "cell_type": "markdown",
   "id": "53011994",
   "metadata": {},
   "source": [
    "![Смерть крыс](https://u.livelib.ru/character/1000002430/o/9d9kf1ev/o-o.jpeg \"death of rat\")"
   ]
  },
  {
   "cell_type": "code",
   "execution_count": 18,
   "id": "b301766d",
   "metadata": {},
   "outputs": [
    {
     "data": {
      "image/jpeg": "[encoded data removed]",
      "text/html": [
       "\n",
       "        <iframe\n",
       "            width=\"400\"\n",
       "            height=\"300\"\n",
       "            src=\"https://www.youtube.com/embed/5jOUuP5L6WA\"\n",
       "            frameborder=\"0\"\n",
       "            allowfullscreen\n",
       "            \n",
       "        ></iframe>\n",
       "        "
      ],
      "text/plain": [
       "<IPython.lib.display.YouTubeVideo at 0x7fe66e3e2680>"
      ]
     },
     "execution_count": 18,
     "metadata": {},
     "output_type": "execute_result"
    }
   ],
   "source": [
    "from IPython.display import YouTubeVideo\n",
    "YouTubeVideo(\"5jOUuP5L6WA\", 400, 300)"
   ]
  },
  {
   "cell_type": "code",
   "execution_count": null,
   "id": "b9d7403a",
   "metadata": {},
   "outputs": [],
   "source": []
  }
 ],
 "metadata": {
  "kernelspec": {
   "display_name": "Python 3 (ipykernel)",
   "language": "python",
   "name": "python3"
  },
  "language_info": {
   "codemirror_mode": {
    "name": "ipython",
    "version": 3
   },
   "file_extension": ".py",
   "mimetype": "text/x-python",
   "name": "python",
   "nbconvert_exporter": "python",
   "pygments_lexer": "ipython3",
   "version": "3.10.0"
  }
 },
 "nbformat": 4,
 "nbformat_minor": 5
}
