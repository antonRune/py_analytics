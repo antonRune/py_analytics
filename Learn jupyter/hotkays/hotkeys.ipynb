{
 "cells": [
  {
   "cell_type": "markdown",
   "id": "e872d2af",
   "metadata": {},
   "source": [
    "# Горячие клавиши"
   ]
  },
  {
   "cell_type": "markdown",
   "id": "075f60ba",
   "metadata": {},
   "source": [
    "Список горячих клавиш вызывается горячей клавишей `h`"
   ]
  },
  {
   "cell_type": "markdown",
   "id": "3e569d8b",
   "metadata": {},
   "source": [
    "Разную документацию по модулям Python (Numpy, Pandas) можно получить в меню help (Справка)"
   ]
  },
  {
   "cell_type": "markdown",
   "id": "894fe22f",
   "metadata": {},
   "source": [
    "Шорткаты можно настроить, нажав на кнопку с иконкой клавиатуры (“Палитра команд”)"
   ]
  },
  {
   "cell_type": "markdown",
   "id": "09ebba66",
   "metadata": {},
   "source": [
    "Переход в режим редактирования `Enter`\n"
   ]
  },
  {
   "cell_type": "markdown",
   "id": "1fcc776e",
   "metadata": {},
   "source": [
    "Переход в командный режим `Esc`"
   ]
  },
  {
   "cell_type": "markdown",
   "id": "a6a43c5a",
   "metadata": {},
   "source": [
    "Перевести в режим Markdown - `M`"
   ]
  },
  {
   "cell_type": "markdown",
   "id": "90baf9f2",
   "metadata": {},
   "source": [
    "Перевести в режим Code - `Y`"
   ]
  },
  {
   "cell_type": "markdown",
   "id": "6c0f4482",
   "metadata": {},
   "source": [
    "Добавить ячейку выше - `A`"
   ]
  },
  {
   "cell_type": "markdown",
   "id": "966bee7f",
   "metadata": {},
   "source": [
    "Добавить ячейку выше - B"
   ]
  },
  {
   "cell_type": "markdown",
   "id": "4118f855",
   "metadata": {},
   "source": [
    "Удалить ячейку - `D * 2`"
   ]
  },
  {
   "cell_type": "markdown",
   "id": "4de5ba43",
   "metadata": {},
   "source": [
    "Автодополнение кода - `Tab`"
   ]
  },
  {
   "cell_type": "markdown",
   "id": "801bf4ed",
   "metadata": {},
   "source": [
    "Отмена удаления - `z`"
   ]
  },
  {
   "cell_type": "markdown",
   "id": "41bcc34d",
   "metadata": {},
   "source": [
    "Подсказка - `Shift + Tab`"
   ]
  }
 ],
 "metadata": {
  "kernelspec": {
   "display_name": "Python 3 (ipykernel)",
   "language": "python",
   "name": "python3"
  },
  "language_info": {
   "codemirror_mode": {
    "name": "ipython",
    "version": 3
   },
   "file_extension": ".py",
   "mimetype": "text/x-python",
   "name": "python",
   "nbconvert_exporter": "python",
   "pygments_lexer": "ipython3",
   "version": "3.9.7"
  }
 },
 "nbformat": 4,
 "nbformat_minor": 5
}
